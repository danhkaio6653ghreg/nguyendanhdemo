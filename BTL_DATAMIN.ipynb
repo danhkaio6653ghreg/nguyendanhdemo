{
  "nbformat": 4,
  "nbformat_minor": 0,
  "metadata": {
    "colab": {
      "provenance": []
    },
    "kernelspec": {
      "name": "python3",
      "display_name": "Python 3"
    },
    "language_info": {
      "name": "python"
    }
  },
  "cells": [
    {
      "cell_type": "code",
      "execution_count": 1,
      "metadata": {
        "id": "Tl8rwNTkwtRn"
      },
      "outputs": [],
      "source": [
        "import pandas as pd\n"
      ]
    },
    {
      "cell_type": "code",
      "source": [
        "df = pd.read_csv('dulieukhaipha.csv')\n",
        "print(df)"
      ],
      "metadata": {
        "colab": {
          "base_uri": "https://localhost:8080/"
        },
        "id": "thlh6US2yQVz",
        "outputId": "51d689d6-e98b-4814-c0d4-fe5422307078"
      },
      "execution_count": 67,
      "outputs": [
        {
          "output_type": "stream",
          "name": "stdout",
          "text": [
            "        MaSV           tenSV     namsinh                diachi  sodienthoai  \\\n",
            "0        1.0            John  2001-06-22  Long Thành, Đồng Nai  085976-5739   \n",
            "1        2.0            Mary  2004-07-21  Long Thành, Đồng Nai  087957-6728   \n",
            "2        3.0             Bob  2003-06-20  Long Thành, Đồng Nai  080965-8943   \n",
            "3        4.0           Alice  2003-11-04  Long Thành, Đồng Nai  087279-2710   \n",
            "4        5.0   Maxime Dubois  2003-04-07  Long Thành, Đồng Nai  086157-3947   \n",
            "...      ...             ...         ...                   ...          ...   \n",
            "3152  3152.0    Sofia Garcia  2001-08-22        Quận 7 , TPHCM  081553-1869   \n",
            "3153  3153.0     Emma Müller  2003-08-03        Quận 7 , TPHCM  081873-5101   \n",
            "3154  3154.0      Ali Hassan  2001-08-15        Quận 7 , TPHCM  080265-5839   \n",
            "3155  3155.0   Johanna Weber  2002-11-25        Quận 7 , TPHCM  088988-3574   \n",
            "3156  3156.0  Matteo Ferrari  2001-08-27        Quận 7 , TPHCM  084533-5893   \n",
            "\n",
            "              cmnd  kỳ một  kỳ hai  kỳ ba  kỳ bốn  Unnamed: 10  \n",
            "0     9.740276e+11       8       4      7       6          NaN  \n",
            "1     7.214428e+11       3       4      7       4          NaN  \n",
            "2     6.310526e+11       9       4      3       4          NaN  \n",
            "3     9.259986e+11       7       4      1       2          NaN  \n",
            "4     4.545215e+11       4       2      4       7          NaN  \n",
            "...            ...     ...     ...    ...     ...          ...  \n",
            "3152  6.251500e+11      10       5      2       3          NaN  \n",
            "3153  4.034484e+11       1       8      5       6          NaN  \n",
            "3154  4.694112e+11      10      10      8       4          NaN  \n",
            "3155  8.118747e+11       9       4      5       6          NaN  \n",
            "3156           NaN       4       8      2       1          NaN  \n",
            "\n",
            "[3157 rows x 11 columns]\n"
          ]
        }
      ]
    },
    {
      "cell_type": "code",
      "source": [
        "#Loại bỏ dl rỗng\n",
        "df = df.dropna()"
      ],
      "metadata": {
        "id": "tQGN9YOCyVaq"
      },
      "execution_count": 65,
      "outputs": []
    },
    {
      "cell_type": "code",
      "source": [
        "# Loại bỏ các giá trị trùng lặp\n",
        "df = df.drop_duplicates()"
      ],
      "metadata": {
        "id": "FVe4eR_Ty2dM"
      },
      "execution_count": 22,
      "outputs": []
    },
    {
      "cell_type": "code",
      "source": [
        "# Kiểm tra tính toàn vẹn của dữ liệu và sửa chữa các lỗi nếu có\n",
        "if df.isnull().values.any():\n",
        "    df = df.fillna(0)"
      ],
      "metadata": {
        "id": "oz_mWgfay5kK"
      },
      "execution_count": 23,
      "outputs": []
    },
    {
      "cell_type": "code",
      "source": [
        "# Hiển thị 5 dòng đầu tiên của dataframe\n",
        "print(df.head(5))"
      ],
      "metadata": {
        "colab": {
          "base_uri": "https://localhost:8080/"
        },
        "id": "eKFyJv-JzBXY",
        "outputId": "ec8f3e56-92a8-4758-d8df-274ae3304b5c"
      },
      "execution_count": 68,
      "outputs": [
        {
          "output_type": "stream",
          "name": "stdout",
          "text": [
            "   MaSV          tenSV     namsinh                diachi  sodienthoai  \\\n",
            "0   1.0           John  2001-06-22  Long Thành, Đồng Nai  085976-5739   \n",
            "1   2.0           Mary  2004-07-21  Long Thành, Đồng Nai  087957-6728   \n",
            "2   3.0            Bob  2003-06-20  Long Thành, Đồng Nai  080965-8943   \n",
            "3   4.0          Alice  2003-11-04  Long Thành, Đồng Nai  087279-2710   \n",
            "4   5.0  Maxime Dubois  2003-04-07  Long Thành, Đồng Nai  086157-3947   \n",
            "\n",
            "           cmnd  kỳ một  kỳ hai  kỳ ba  kỳ bốn  Unnamed: 10  \n",
            "0  9.740276e+11       8       4      7       6          NaN  \n",
            "1  7.214428e+11       3       4      7       4          NaN  \n",
            "2  6.310526e+11       9       4      3       4          NaN  \n",
            "3  9.259986e+11       7       4      1       2          NaN  \n",
            "4  4.545215e+11       4       2      4       7          NaN  \n"
          ]
        }
      ]
    },
    {
      "cell_type": "code",
      "source": [
        "#Xóa các dòng có giá trị thiếu:\n",
        "df.dropna(inplace=True)"
      ],
      "metadata": {
        "id": "Up9_wiR-z3Xf"
      },
      "execution_count": 26,
      "outputs": []
    },
    {
      "cell_type": "code",
      "source": [
        "#Điền các giá trị thiếu với giá trị trung bình:\n",
        "df.fillna(df.mean(), inplace=True)"
      ],
      "metadata": {
        "id": "I7FDRGGCzvr5"
      },
      "execution_count": 27,
      "outputs": []
    },
    {
      "cell_type": "code",
      "source": [
        "#Xóa các ký tự đặc biệt:\n",
        "df['sodienthoai2'] = df['sodienthoai'].str.replace('[^a-zA-Z0-9]', '')\n",
        "df.drop('Unnamed: 10', axis=1, inplace=True)\n",
        "print(df.head(5))"
      ],
      "metadata": {
        "colab": {
          "base_uri": "https://localhost:8080/"
        },
        "id": "_1NEG5O62n15",
        "outputId": "475699f2-a042-4402-94cb-415fa711390e"
      },
      "execution_count": 70,
      "outputs": [
        {
          "output_type": "stream",
          "name": "stdout",
          "text": [
            "   MaSV          tenSV     namsinh                diachi  sodienthoai  \\\n",
            "0   1.0           John  2001-06-22  Long Thành, Đồng Nai  085976-5739   \n",
            "1   2.0           Mary  2004-07-21  Long Thành, Đồng Nai  087957-6728   \n",
            "2   3.0            Bob  2003-06-20  Long Thành, Đồng Nai  080965-8943   \n",
            "3   4.0          Alice  2003-11-04  Long Thành, Đồng Nai  087279-2710   \n",
            "4   5.0  Maxime Dubois  2003-04-07  Long Thành, Đồng Nai  086157-3947   \n",
            "\n",
            "           cmnd  kỳ một  kỳ hai  kỳ ba  kỳ bốn sodienthoai2  \n",
            "0  9.740276e+11       8       4      7       6   0859765739  \n",
            "1  7.214428e+11       3       4      7       4   0879576728  \n",
            "2  6.310526e+11       9       4      3       4   0809658943  \n",
            "3  9.259986e+11       7       4      1       2   0872792710  \n",
            "4  4.545215e+11       4       2      4       7   0861573947  \n"
          ]
        },
        {
          "output_type": "stream",
          "name": "stderr",
          "text": [
            "<ipython-input-70-e07f04d39e4a>:2: FutureWarning: The default value of regex will change from True to False in a future version.\n",
            "  df['sodienthoai2'] = df['sodienthoai'].str.replace('[^a-zA-Z0-9]', '')\n"
          ]
        }
      ]
    },
    {
      "cell_type": "code",
      "source": [
        "#Chuyển đổi kiểu dữ liệu:\n",
        "df['cmnd2'] = df['cmnd'].astype('string')\n",
        "print(df.head(5))\n"
      ],
      "metadata": {
        "colab": {
          "base_uri": "https://localhost:8080/"
        },
        "id": "ss7i8xGUrvo3",
        "outputId": "7a2ffabb-1961-43c1-9c81-abb170b06460"
      },
      "execution_count": 77,
      "outputs": [
        {
          "output_type": "stream",
          "name": "stdout",
          "text": [
            "   MaSV          tenSV     namsinh                diachi  sodienthoai  \\\n",
            "0   1.0           John  2001-06-22  Long Thành, Đồng Nai  085976-5739   \n",
            "1   2.0           Mary  2004-07-21  Long Thành, Đồng Nai  087957-6728   \n",
            "2   3.0            Bob  2003-06-20  Long Thành, Đồng Nai  080965-8943   \n",
            "3   4.0          Alice  2003-11-04  Long Thành, Đồng Nai  087279-2710   \n",
            "4   5.0  Maxime Dubois  2003-04-07  Long Thành, Đồng Nai  086157-3947   \n",
            "\n",
            "           cmnd  kỳ một  kỳ hai  kỳ ba  kỳ bốn sodienthoai2           cmnd2  \n",
            "0  9.740276e+11       8       4      7       6   0859765739  974027562783.0  \n",
            "1  7.214428e+11       3       4      7       4   0879576728  721442797545.0  \n",
            "2  6.310526e+11       9       4      3       4   0809658943  631052578932.0  \n",
            "3  9.259986e+11       7       4      1       2   0872792710  925998635603.0  \n",
            "4  4.545215e+11       4       2      4       7   0861573947  454521465460.0  \n"
          ]
        }
      ]
    },
    {
      "cell_type": "code",
      "source": [
        "#xóa ký tự đặc biệt\n",
        "df['cmnd3'] = df['cmnd2'].str.replace('[.0]', '')\n",
        "#xóa 2 cột dữ cmnd và sodienthoai:\n",
        "df = df.drop(['cmnd', 'sodienthoai'], axis=1)\n",
        "print(df.head(5))\n"
      ],
      "metadata": {
        "colab": {
          "base_uri": "https://localhost:8080/"
        },
        "id": "Ijlq8izHsbqi",
        "outputId": "01f9e145-6208-4565-a5dc-b70e8ef961f9"
      },
      "execution_count": 82,
      "outputs": [
        {
          "output_type": "stream",
          "name": "stdout",
          "text": [
            "   MaSV          tenSV     namsinh                diachi  kỳ một  kỳ hai  \\\n",
            "0   1.0           John  2001-06-22  Long Thành, Đồng Nai       8       4   \n",
            "1   2.0           Mary  2004-07-21  Long Thành, Đồng Nai       3       4   \n",
            "2   3.0            Bob  2003-06-20  Long Thành, Đồng Nai       9       4   \n",
            "3   4.0          Alice  2003-11-04  Long Thành, Đồng Nai       7       4   \n",
            "4   5.0  Maxime Dubois  2003-04-07  Long Thành, Đồng Nai       4       2   \n",
            "\n",
            "   kỳ ba  kỳ bốn sodienthoai2         cmnd2         cmnd3  \n",
            "0      7       6   0859765739   97427562783   97427562783  \n",
            "1      7       4   0879576728  721442797545  721442797545  \n",
            "2      3       4   0809658943   63152578932   63152578932  \n",
            "3      1       2   0872792710   92599863563   92599863563  \n",
            "4      4       7   0861573947   45452146546   45452146546  \n"
          ]
        },
        {
          "output_type": "stream",
          "name": "stderr",
          "text": [
            "<ipython-input-82-38d8d70c21f4>:2: FutureWarning: The default value of regex will change from True to False in a future version.\n",
            "  df['cmnd3'] = df['cmnd2'].str.replace('[.0]', '')\n"
          ]
        }
      ]
    },
    {
      "cell_type": "code",
      "source": [
        "#gộp cmnd3 đổi thành cmnd 2 \n",
        "df.drop('cmnd2', axis=1, inplace=True)\n",
        "df = df.rename(columns={'cmnd3': 'cmnd2'})\n",
        "print(df.head(5))"
      ],
      "metadata": {
        "colab": {
          "base_uri": "https://localhost:8080/"
        },
        "id": "l4biDbXys3ar",
        "outputId": "65812e67-c414-46e3-8f25-7f53d77b15bb"
      },
      "execution_count": 83,
      "outputs": [
        {
          "output_type": "stream",
          "name": "stdout",
          "text": [
            "   MaSV          tenSV     namsinh                diachi  kỳ một  kỳ hai  \\\n",
            "0   1.0           John  2001-06-22  Long Thành, Đồng Nai       8       4   \n",
            "1   2.0           Mary  2004-07-21  Long Thành, Đồng Nai       3       4   \n",
            "2   3.0            Bob  2003-06-20  Long Thành, Đồng Nai       9       4   \n",
            "3   4.0          Alice  2003-11-04  Long Thành, Đồng Nai       7       4   \n",
            "4   5.0  Maxime Dubois  2003-04-07  Long Thành, Đồng Nai       4       2   \n",
            "\n",
            "   kỳ ba  kỳ bốn sodienthoai2         cmnd2  \n",
            "0      7       6   0859765739   97427562783  \n",
            "1      7       4   0879576728  721442797545  \n",
            "2      3       4   0809658943   63152578932  \n",
            "3      1       2   0872792710   92599863563  \n",
            "4      4       7   0861573947   45452146546  \n"
          ]
        }
      ]
    },
    {
      "cell_type": "code",
      "source": [
        "#THU GIẢM DATA"
      ],
      "metadata": {
        "id": "dgZM0yhdswl3"
      },
      "execution_count": null,
      "outputs": []
    },
    {
      "cell_type": "code",
      "source": [
        "\n",
        "#lấy ngẫu nhiên 50 dòng\n",
        "sampled_df = df.sample(n=50) \n",
        "print(sampled_df)"
      ],
      "metadata": {
        "colab": {
          "base_uri": "https://localhost:8080/"
        },
        "id": "X8trMd1alFaS",
        "outputId": "29fcfa01-4e87-49d1-c63c-6dc663d28e2d"
      },
      "execution_count": 85,
      "outputs": [
        {
          "output_type": "stream",
          "name": "stdout",
          "text": [
            "        MaSV             tenSV     namsinh           diachi  kỳ một  kỳ hai  \\\n",
            "676    676.0       William Lee  2000-11-04   Gò Vấp , TPHCM       1       4   \n",
            "1527  1527.0         Amir Kaur  2002-09-28   Quận 9 , TPHCM       5       3   \n",
            "525    526.0    Isabella Rossi  2001-01-20   Gò Vấp , TPHCM       5       7   \n",
            "301    302.0       Sofia Lopez  2002-11-28   Gò Vấp , TPHCM       9       6   \n",
            "1789  1789.0        Ali Hassan  2001-09-30   Quận 9 , TPHCM       4       3   \n",
            "2465  2465.0        Ali Hassan  2004-09-19  Thủ Đức , TPHCM       6       8   \n",
            "1456  1456.0        Ali Hassan  2001-07-06   Quận 9 , TPHCM      10       8   \n",
            "2910  2910.0         Amir Kaur  2004-02-17   Quận 7 , TPHCM       5       2   \n",
            "2299  2299.0       William Lee  2000-11-27  Thủ Đức , TPHCM       7      10   \n",
            "1396  1396.0       William Lee  2004-02-26   Quận 9 , TPHCM       6       3   \n",
            "1505  1505.0         Sarah Kim  2004-03-08   Quận 9 , TPHCM       7       7   \n",
            "2753  2753.0       Emma Müller  2003-03-14  Thủ Đức , TPHCM       9       4   \n",
            "707    707.0       William Lee  2004-10-25   Gò Vấp , TPHCM       5       8   \n",
            "295    296.0       Anna Müller  2001-12-12   Gò Vấp , TPHCM       9       2   \n",
            "2394  2394.0         Amir Kaur  2000-11-07  Thủ Đức , TPHCM       5       5   \n",
            "244    245.0       Emma Müller  2001-07-09   Gò Vấp , TPHCM       5       5   \n",
            "2698  2698.0   Sofia Rodriguez  2001-08-19  Thủ Đức , TPHCM       6       6   \n",
            "1532  1532.0       Anna Müller  2001-07-26   Quận 9 , TPHCM       4       4   \n",
            "1725  1725.0      Sofia Garcia  2004-10-06   Quận 9 , TPHCM       7       6   \n",
            "1926  1926.0     Maxime Dubois  2004-06-15   Quận 9 , TPHCM       7       9   \n",
            "1753  1753.0    Ahmed Al-Sayed  2001-07-16   Quận 9 , TPHCM       2       1   \n",
            "1440  1440.0  Miguel Rodriguez  2003-05-10   Quận 9 , TPHCM       9       6   \n",
            "2982  2982.0      Lukas Becker  2004-04-18   Quận 7 , TPHCM       3       7   \n",
            "1599  1599.0       Anna Müller  2003-04-01   Quận 9 , TPHCM       9       2   \n",
            "1562  1562.0      Emma Johnson  2003-06-27   Quận 9 , TPHCM       6       6   \n",
            "3149  3149.0    Ahmed Al-Sayed  2001-04-07   Quận 7 , TPHCM       6       2   \n",
            "831    831.0    Matteo Ferrari  2004-02-02   Gò Vấp , TPHCM       8       6   \n",
            "1298  1298.0       Sofia Lopez  2003-08-24   Quận 9 , TPHCM       1       7   \n",
            "1575  1575.0  Alexander Müller  2004-05-11   Quận 9 , TPHCM       7       8   \n",
            "2798  2798.0    Ahmed Al-Sayed  2003-03-04   Quận 7 , TPHCM       9       8   \n",
            "949    949.0    Isabella Rossi  2004-04-23   Gò Vấp , TPHCM       4       7   \n",
            "2517  2517.0  Alexander Müller  2002-06-04  Thủ Đức , TPHCM       9       7   \n",
            "1365  1365.0       William Lee  2003-01-14   Quận 9 , TPHCM       4       8   \n",
            "3024  3024.0       Emma Müller  2001-02-17   Quận 7 , TPHCM       8       5   \n",
            "2339  2339.0      Emily Wilson  2002-06-02  Thủ Đức , TPHCM       3       3   \n",
            "1972  1972.0         Sarah Kim  2003-10-15   Quận 9 , TPHCM       2       4   \n",
            "2981  2981.0         Sarah Kim  2003-07-07   Quận 7 , TPHCM       6       7   \n",
            "1395  1395.0   Sofia Rodriguez  2004-07-23   Quận 9 , TPHCM       9       4   \n",
            "1159  1159.0   Johanna Schmidt  2001-04-21   Quận 9 , TPHCM       4       2   \n",
            "1892  1892.0         Lucas Kim  2003-06-19   Quận 9 , TPHCM       3       7   \n",
            "1984  1984.0       Emma Müller  2001-04-13   Quận 9 , TPHCM       7       7   \n",
            "2365  2365.0    Matteo Bianchi  2001-04-28  Thủ Đức , TPHCM       9      10   \n",
            "645    645.0   Maria Hernandez  2003-07-25   Gò Vấp , TPHCM       2       2   \n",
            "362    363.0      Lukas Becker  2004-07-29   Gò Vấp , TPHCM       8       3   \n",
            "2901  2901.0        Ali Hassan  2003-03-07   Quận 7 , TPHCM       8      10   \n",
            "315    316.0     Maxime Dubois  2002-08-04   Gò Vấp , TPHCM       2       3   \n",
            "1924  1924.0     Johanna Weber  2002-08-27   Quận 9 , TPHCM       6       3   \n",
            "1128  1128.0   Johanna Schmidt  2003-12-23   Quận 9 , TPHCM       7       4   \n",
            "1994  1994.0         Amir Kaur  2001-01-11   Quận 9 , TPHCM       1       6   \n",
            "133    134.0   Maria Hernandez  2004-01-01   Gò Vấp , TPHCM       7       6   \n",
            "\n",
            "      kỳ ba  kỳ bốn sodienthoai2         cmnd2  \n",
            "676       7       7   0850362367      32676745  \n",
            "1527      6       4   0804119650     648278418  \n",
            "525       7       5   0814449468   41196368535  \n",
            "301       5       8   0813016394  621656284339  \n",
            "1789      8       7   0880515026  515364824921  \n",
            "2465      9       3   0811973364  295826722959  \n",
            "1456      1       5   0805437577     289947433  \n",
            "2910      7       4   0855665820      55327328  \n",
            "2299      9       2   0821861826   76114856171  \n",
            "1396      7       7   0854917506    4392992693  \n",
            "1505      2       6   0836006899  393484578238  \n",
            "2753      3       2   0839734687    6591316287  \n",
            "707       4       6   0879618163  214834441396  \n",
            "295       5       3   0829863939  541883865758  \n",
            "2394      5       9   0861814513   41696153679  \n",
            "244       4       4   0827689661  977848674137  \n",
            "2698      3       6   0803669810   33994346732  \n",
            "1532      5       9   0838374192   64497713896  \n",
            "1725      9       9   0858216837   77352588897  \n",
            "1926     10       6   0897664516   21726782249  \n",
            "1753      9       8   0875728923  993698872175  \n",
            "1440      3       5   0876104753   89237131548  \n",
            "2982      4       2   0866350810     537297566  \n",
            "1599      8       4   0848168734   93581995434  \n",
            "1562      2       8   0893816648   36866864965  \n",
            "3149      8       7   0800232427    5797876448  \n",
            "831      10       8   0857685767  585825111599  \n",
            "1298      5       9   0832599951    5473754364  \n",
            "1575      1       8   0852747150  472731355677  \n",
            "2798      7       4   0816657707  589839214561  \n",
            "949       4       3   0868250496    9154191586  \n",
            "2517      3       2   0800992774  654489228627  \n",
            "1365      7       8   0804412972   58311738619  \n",
            "3024     10       5   0858020544  428224561136  \n",
            "2339      1       3   0833192196  953218776864  \n",
            "1972      9       4   0850764600   86612554746  \n",
            "2981      4       7   0891843127   81548278699  \n",
            "1395      2       8   0882127636  623467656975  \n",
            "1159      4       3   0874703248   55675295171  \n",
            "1892      2       3   0823367088  346793316298  \n",
            "1984      5       6   0801346100   81227674266  \n",
            "2365      9       7   0899412690   61415528722  \n",
            "645       4       9   0828824383   68867575332  \n",
            "362       3       9   0882963513  586615975767  \n",
            "2901      8       9   0867193751  414352681329  \n",
            "315       1       6   0871055257   74484273682  \n",
            "1924      2       6   0891320850    5412516186  \n",
            "1128      2       9   0880518106   83548788223  \n",
            "1994      1       1   0865636185   42431679376  \n",
            "133       8       9   0842666550   28994193264  \n"
          ]
        }
      ]
    },
    {
      "cell_type": "code",
      "source": [
        "#Sử dụng thuật toán Random Forest Regressor\n",
        "from sklearn.ensemble import RandomForestRegressor\n",
        "from sklearn.model_selection import train_test_split\n",
        "from sklearn.metrics import mean_squared_error, mean_absolute_error"
      ],
      "metadata": {
        "id": "cK5ZtCkLsPR3"
      },
      "execution_count": 86,
      "outputs": []
    },
    {
      "cell_type": "code",
      "source": [
        "print(df)"
      ],
      "metadata": {
        "colab": {
          "base_uri": "https://localhost:8080/"
        },
        "id": "av6fxhBq1ZZD",
        "outputId": "6ad4faff-e45a-4c34-b401-d6c68891a5c0"
      },
      "execution_count": 104,
      "outputs": [
        {
          "output_type": "stream",
          "name": "stdout",
          "text": [
            "        MaSV           tenSV     namsinh                diachi  kỳ một  \\\n",
            "0        1.0            John  2001-06-22  Long Thành, Đồng Nai       8   \n",
            "1        2.0            Mary  2004-07-21  Long Thành, Đồng Nai       3   \n",
            "2        3.0             Bob  2003-06-20  Long Thành, Đồng Nai       9   \n",
            "3        4.0           Alice  2003-11-04  Long Thành, Đồng Nai       7   \n",
            "4        5.0   Maxime Dubois  2003-04-07  Long Thành, Đồng Nai       4   \n",
            "...      ...             ...         ...                   ...     ...   \n",
            "3152  3152.0    Sofia Garcia  2001-08-22        Quận 7 , TPHCM      10   \n",
            "3153  3153.0     Emma Müller  2003-08-03        Quận 7 , TPHCM       1   \n",
            "3154  3154.0      Ali Hassan  2001-08-15        Quận 7 , TPHCM      10   \n",
            "3155  3155.0   Johanna Weber  2002-11-25        Quận 7 , TPHCM       9   \n",
            "3156  3156.0  Matteo Ferrari  2001-08-27        Quận 7 , TPHCM       4   \n",
            "\n",
            "      kỳ hai  kỳ ba  kỳ bốn sodienthoai2         cmnd2  \n",
            "0          4      7       6   0859765739   97427562783  \n",
            "1          4      7       4   0879576728  721442797545  \n",
            "2          4      3       4   0809658943   63152578932  \n",
            "3          4      1       2   0872792710   92599863563  \n",
            "4          2      4       7   0861573947   45452146546  \n",
            "...      ...    ...     ...          ...           ...  \n",
            "3152       5      2       3   0815531869    6251539512  \n",
            "3153       8      5       6   0818735101   43448366253  \n",
            "3154      10      8       4   0802655839  469411159427  \n",
            "3155       4      5       6   0889883574   81187474773  \n",
            "3156       8      2       1   0845335893          <NA>  \n",
            "\n",
            "[3157 rows x 10 columns]\n"
          ]
        }
      ]
    },
    {
      "cell_type": "code",
      "source": [
        "#xóa các cột không liên quan thu gọn dữ liệu:\n",
        "\n",
        "df.drop('cmnd2', axis=1, inplace=True)\n",
        "df.drop('tenSV', axis=1, inplace=True)\n",
        "print(df)"
      ],
      "metadata": {
        "colab": {
          "base_uri": "https://localhost:8080/"
        },
        "id": "ij2NZY747b9F",
        "outputId": "f70e5c5b-5170-463d-a4df-16fe05b8ff7a"
      },
      "execution_count": 150,
      "outputs": [
        {
          "output_type": "stream",
          "name": "stdout",
          "text": [
            "      kỳ một  kỳ hai  kỳ ba  kỳ bốn\n",
            "0          8       4      7       6\n",
            "1          3       4      7       4\n",
            "2          9       4      3       4\n",
            "3          7       4      1       2\n",
            "4          4       2      4       7\n",
            "...      ...     ...    ...     ...\n",
            "3152      10       5      2       3\n",
            "3153       1       8      5       6\n",
            "3154      10      10      8       4\n",
            "3155       9       4      5       6\n",
            "3156       4       8      2       1\n",
            "\n",
            "[3157 rows x 4 columns]\n"
          ]
        }
      ]
    },
    {
      "cell_type": "code",
      "source": [
        "#tạo cột kì 5 để làm y(nhãn để dự đoán kỳ sao):\n",
        "df['kỳ năm'] = df['kỳ bốn'].astype('float')\n",
        "print(df.head(5))"
      ],
      "metadata": {
        "colab": {
          "base_uri": "https://localhost:8080/"
        },
        "id": "OYLzxyGYFKAE",
        "outputId": "e977742b-df85-4a1b-ead2-a23e0f6060c9"
      },
      "execution_count": 151,
      "outputs": [
        {
          "output_type": "stream",
          "name": "stdout",
          "text": [
            "   kỳ một  kỳ hai  kỳ ba  kỳ bốn  kỳ năm\n",
            "0       8       4      7       6     6.0\n",
            "1       3       4      7       4     4.0\n",
            "2       9       4      3       4     4.0\n",
            "3       7       4      1       2     2.0\n",
            "4       4       2      4       7     7.0\n"
          ]
        }
      ]
    },
    {
      "cell_type": "code",
      "source": [
        "# tách dữ liệu thành X và y\n",
        "X = df.iloc[:, :-1]\n",
        "y = df.iloc[:, -1]\n",
        "print(X)\n"
      ],
      "metadata": {
        "colab": {
          "base_uri": "https://localhost:8080/"
        },
        "id": "yvIJggBf1j2e",
        "outputId": "e02be903-3f9a-4227-fefd-21c241c7d440"
      },
      "execution_count": 152,
      "outputs": [
        {
          "output_type": "stream",
          "name": "stdout",
          "text": [
            "      kỳ một  kỳ hai  kỳ ba  kỳ bốn\n",
            "0          8       4      7       6\n",
            "1          3       4      7       4\n",
            "2          9       4      3       4\n",
            "3          7       4      1       2\n",
            "4          4       2      4       7\n",
            "...      ...     ...    ...     ...\n",
            "3152      10       5      2       3\n",
            "3153       1       8      5       6\n",
            "3154      10      10      8       4\n",
            "3155       9       4      5       6\n",
            "3156       4       8      2       1\n",
            "\n",
            "[3157 rows x 4 columns]\n"
          ]
        }
      ]
    },
    {
      "cell_type": "code",
      "source": [
        "print(y)"
      ],
      "metadata": {
        "colab": {
          "base_uri": "https://localhost:8080/"
        },
        "id": "qfPRwqJs13E1",
        "outputId": "981d4705-dfa7-48d6-97d6-afe2c79814a8"
      },
      "execution_count": 153,
      "outputs": [
        {
          "output_type": "stream",
          "name": "stdout",
          "text": [
            "0       6.0\n",
            "1       4.0\n",
            "2       4.0\n",
            "3       2.0\n",
            "4       7.0\n",
            "       ... \n",
            "3152    3.0\n",
            "3153    6.0\n",
            "3154    4.0\n",
            "3155    6.0\n",
            "3156    1.0\n",
            "Name: kỳ năm, Length: 3157, dtype: float64\n"
          ]
        }
      ]
    },
    {
      "cell_type": "code",
      "source": [
        "# tách dữ liệu thành tập huấn luyện và tập kiểm tra\n",
        "X_train, X_test, y_train, y_test = train_test_split(X, y, test_size=0.2, random_state=42)"
      ],
      "metadata": {
        "id": "ehOVieXX-DT1"
      },
      "execution_count": 154,
      "outputs": []
    },
    {
      "cell_type": "code",
      "source": [
        "print(y_train)"
      ],
      "metadata": {
        "colab": {
          "base_uri": "https://localhost:8080/"
        },
        "id": "UrqEOh3JEmaX",
        "outputId": "2d5f20a0-a746-490a-c8af-4b9a90b64691"
      },
      "execution_count": 157,
      "outputs": [
        {
          "output_type": "stream",
          "name": "stdout",
          "text": [
            "678     4.0\n",
            "2665    4.0\n",
            "1730    9.0\n",
            "1737    7.0\n",
            "2850    3.0\n",
            "       ... \n",
            "3092    2.0\n",
            "1095    7.0\n",
            "1130    9.0\n",
            "1294    7.0\n",
            "860     2.0\n",
            "Name: kỳ năm, Length: 2525, dtype: float64\n"
          ]
        }
      ]
    },
    {
      "cell_type": "code",
      "source": [
        "# khởi tạo mô hình Random Forest Regressor\n",
        "rf = RandomForestRegressor(n_estimators=100, random_state=42)"
      ],
      "metadata": {
        "id": "8uVw7WgX-LPV"
      },
      "execution_count": 155,
      "outputs": []
    },
    {
      "cell_type": "code",
      "source": [
        "# huấn luyện mô hình trên tập huấn luyện\n",
        "rf.fit(X_train, y_train)"
      ],
      "metadata": {
        "colab": {
          "base_uri": "https://localhost:8080/",
          "height": 75
        },
        "id": "l9RnxM3Y_PvR",
        "outputId": "f6dc118f-e78f-494d-f1ce-bd5234222a72"
      },
      "execution_count": 156,
      "outputs": [
        {
          "output_type": "execute_result",
          "data": {
            "text/plain": [
              "RandomForestRegressor(random_state=42)"
            ],
            "text/html": [
              "<style>#sk-container-id-1 {color: black;background-color: white;}#sk-container-id-1 pre{padding: 0;}#sk-container-id-1 div.sk-toggleable {background-color: white;}#sk-container-id-1 label.sk-toggleable__label {cursor: pointer;display: block;width: 100%;margin-bottom: 0;padding: 0.3em;box-sizing: border-box;text-align: center;}#sk-container-id-1 label.sk-toggleable__label-arrow:before {content: \"▸\";float: left;margin-right: 0.25em;color: #696969;}#sk-container-id-1 label.sk-toggleable__label-arrow:hover:before {color: black;}#sk-container-id-1 div.sk-estimator:hover label.sk-toggleable__label-arrow:before {color: black;}#sk-container-id-1 div.sk-toggleable__content {max-height: 0;max-width: 0;overflow: hidden;text-align: left;background-color: #f0f8ff;}#sk-container-id-1 div.sk-toggleable__content pre {margin: 0.2em;color: black;border-radius: 0.25em;background-color: #f0f8ff;}#sk-container-id-1 input.sk-toggleable__control:checked~div.sk-toggleable__content {max-height: 200px;max-width: 100%;overflow: auto;}#sk-container-id-1 input.sk-toggleable__control:checked~label.sk-toggleable__label-arrow:before {content: \"▾\";}#sk-container-id-1 div.sk-estimator input.sk-toggleable__control:checked~label.sk-toggleable__label {background-color: #d4ebff;}#sk-container-id-1 div.sk-label input.sk-toggleable__control:checked~label.sk-toggleable__label {background-color: #d4ebff;}#sk-container-id-1 input.sk-hidden--visually {border: 0;clip: rect(1px 1px 1px 1px);clip: rect(1px, 1px, 1px, 1px);height: 1px;margin: -1px;overflow: hidden;padding: 0;position: absolute;width: 1px;}#sk-container-id-1 div.sk-estimator {font-family: monospace;background-color: #f0f8ff;border: 1px dotted black;border-radius: 0.25em;box-sizing: border-box;margin-bottom: 0.5em;}#sk-container-id-1 div.sk-estimator:hover {background-color: #d4ebff;}#sk-container-id-1 div.sk-parallel-item::after {content: \"\";width: 100%;border-bottom: 1px solid gray;flex-grow: 1;}#sk-container-id-1 div.sk-label:hover label.sk-toggleable__label {background-color: #d4ebff;}#sk-container-id-1 div.sk-serial::before {content: \"\";position: absolute;border-left: 1px solid gray;box-sizing: border-box;top: 0;bottom: 0;left: 50%;z-index: 0;}#sk-container-id-1 div.sk-serial {display: flex;flex-direction: column;align-items: center;background-color: white;padding-right: 0.2em;padding-left: 0.2em;position: relative;}#sk-container-id-1 div.sk-item {position: relative;z-index: 1;}#sk-container-id-1 div.sk-parallel {display: flex;align-items: stretch;justify-content: center;background-color: white;position: relative;}#sk-container-id-1 div.sk-item::before, #sk-container-id-1 div.sk-parallel-item::before {content: \"\";position: absolute;border-left: 1px solid gray;box-sizing: border-box;top: 0;bottom: 0;left: 50%;z-index: -1;}#sk-container-id-1 div.sk-parallel-item {display: flex;flex-direction: column;z-index: 1;position: relative;background-color: white;}#sk-container-id-1 div.sk-parallel-item:first-child::after {align-self: flex-end;width: 50%;}#sk-container-id-1 div.sk-parallel-item:last-child::after {align-self: flex-start;width: 50%;}#sk-container-id-1 div.sk-parallel-item:only-child::after {width: 0;}#sk-container-id-1 div.sk-dashed-wrapped {border: 1px dashed gray;margin: 0 0.4em 0.5em 0.4em;box-sizing: border-box;padding-bottom: 0.4em;background-color: white;}#sk-container-id-1 div.sk-label label {font-family: monospace;font-weight: bold;display: inline-block;line-height: 1.2em;}#sk-container-id-1 div.sk-label-container {text-align: center;}#sk-container-id-1 div.sk-container {/* jupyter's `normalize.less` sets `[hidden] { display: none; }` but bootstrap.min.css set `[hidden] { display: none !important; }` so we also need the `!important` here to be able to override the default hidden behavior on the sphinx rendered scikit-learn.org. See: https://github.com/scikit-learn/scikit-learn/issues/21755 */display: inline-block !important;position: relative;}#sk-container-id-1 div.sk-text-repr-fallback {display: none;}</style><div id=\"sk-container-id-1\" class=\"sk-top-container\"><div class=\"sk-text-repr-fallback\"><pre>RandomForestRegressor(random_state=42)</pre><b>In a Jupyter environment, please rerun this cell to show the HTML representation or trust the notebook. <br />On GitHub, the HTML representation is unable to render, please try loading this page with nbviewer.org.</b></div><div class=\"sk-container\" hidden><div class=\"sk-item\"><div class=\"sk-estimator sk-toggleable\"><input class=\"sk-toggleable__control sk-hidden--visually\" id=\"sk-estimator-id-1\" type=\"checkbox\" checked><label for=\"sk-estimator-id-1\" class=\"sk-toggleable__label sk-toggleable__label-arrow\">RandomForestRegressor</label><div class=\"sk-toggleable__content\"><pre>RandomForestRegressor(random_state=42)</pre></div></div></div></div></div>"
            ]
          },
          "metadata": {},
          "execution_count": 156
        }
      ]
    },
    {
      "cell_type": "code",
      "source": [
        "# đánh giá mô hình trên tập kiểm tra\n",
        "y_pred = rf.predict(X_test)\n",
        "mse = mean_squared_error(y_test, y_pred)\n",
        "mae = mean_absolute_error(y_test, y_pred)\n",
        "print('Mean squared error:', mse)\n",
        "print('Mean absolute error:', mae)"
      ],
      "metadata": {
        "colab": {
          "base_uri": "https://localhost:8080/"
        },
        "id": "g4JU5YdHGU2k",
        "outputId": "5a2460ac-a307-455b-ea50-1cbaf32596ba"
      },
      "execution_count": 159,
      "outputs": [
        {
          "output_type": "stream",
          "name": "stdout",
          "text": [
            "Mean squared error: 0.0\n",
            "Mean absolute error: 0.0\n"
          ]
        }
      ]
    },
    {
      "cell_type": "code",
      "source": [
        "# dự đoán kết quả học tập kì sau\n",
        "new_data = [[9,8,9,6]] # kết quả học tập của các kì trước\n",
        "new_pred = rf.predict(new_data)\n"
      ],
      "metadata": {
        "colab": {
          "base_uri": "https://localhost:8080/"
        },
        "id": "msDNiVjEGcLZ",
        "outputId": "3bda1733-bf11-4c02-f81b-f54ad67be2d7"
      },
      "execution_count": 178,
      "outputs": [
        {
          "output_type": "stream",
          "name": "stderr",
          "text": [
            "/usr/local/lib/python3.9/dist-packages/sklearn/base.py:439: UserWarning: X does not have valid feature names, but RandomForestRegressor was fitted with feature names\n",
            "  warnings.warn(\n"
          ]
        }
      ]
    },
    {
      "cell_type": "code",
      "source": [
        "print('Predicted score:', new_pred)"
      ],
      "metadata": {
        "colab": {
          "base_uri": "https://localhost:8080/"
        },
        "id": "XaHkbtisHN0f",
        "outputId": "423b27d6-ff64-47d6-bf87-59b82d593366"
      },
      "execution_count": 179,
      "outputs": [
        {
          "output_type": "stream",
          "name": "stdout",
          "text": [
            "Predicted score: [6.]\n"
          ]
        }
      ]
    },
    {
      "cell_type": "code",
      "source": [
        "#Tối ưu băng cách nhập dữ liệu từ bàn phím:\n",
        "while True:\n",
        "  k1 = int(input('nhap diem ki 1 (nhap 0 de dung): '))\n",
        "  if k1<=0:\n",
        "    break\n",
        "  k2 = int(input('nhap diem ki 2 (nhap 0 de dung): '))\n",
        "  k3 = int(input('nhap diem ki 3 (nhap 0 de dung): '))\n",
        "  k4 = int(input('nhap diem ki 4 (nhap 0 de dung): '))\n",
        " \n",
        "  new_data = [[float(k1),float(k2),float(k3),float(k4)]] # kết quả học tập của các kì trước\n",
        "  new_pred = rf.predict(new_data)\n",
        "  if int(new_pred)>5 &int(new_pred)<=7:\n",
        "    kq=\"Trung bình\"\n",
        "  elif int(new_pred)>7 & int(new_pred)<=8.5:\n",
        "    kq=\"Khá\"\n",
        "  else: kq=\"Yếu\"\n",
        "  print('neu diem ki 1 2 3 4 lan luot la ',k1,k2,k3,k4,' thi diem ki sau la: ', float(new_pred), \"Loại\",kq)\n"
      ],
      "metadata": {
        "colab": {
          "base_uri": "https://localhost:8080/"
        },
        "id": "O8FBBl39Jusm",
        "outputId": "038ff32f-1186-4ce9-f932-90bcfabff633"
      },
      "execution_count": 195,
      "outputs": [
        {
          "name": "stdout",
          "output_type": "stream",
          "text": [
            "nhap diem ki 1 (nhap 0 de dung): 7\n",
            "nhap diem ki 2 (nhap 0 de dung): 8\n",
            "nhap diem ki 3 (nhap 0 de dung): 7\n",
            "nhap diem ki 4 (nhap 0 de dung): 6\n"
          ]
        },
        {
          "output_type": "stream",
          "name": "stderr",
          "text": [
            "/usr/local/lib/python3.9/dist-packages/sklearn/base.py:439: UserWarning: X does not have valid feature names, but RandomForestRegressor was fitted with feature names\n",
            "  warnings.warn(\n"
          ]
        },
        {
          "name": "stdout",
          "output_type": "stream",
          "text": [
            "neu diem ki 1 2 3 4 lan luot la  7 8 7 6  thi diem ki sau la:  6.0 Loại Trung bình\n",
            "nhap diem ki 1 (nhap 0 de dung): 0\n"
          ]
        }
      ]
    },
    {
      "cell_type": "code",
      "source": [
        "()"
      ],
      "metadata": {
        "id": "dblxzHFlUX4S"
      },
      "execution_count": null,
      "outputs": []
    }
  ]
}