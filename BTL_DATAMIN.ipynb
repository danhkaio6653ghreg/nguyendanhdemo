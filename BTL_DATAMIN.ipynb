{
  "nbformat": 4,
  "nbformat_minor": 0,
  "metadata": {
    "colab": {
      "provenance": []
    },
    "kernelspec": {
      "name": "python3",
      "display_name": "Python 3"
    },
    "language_info": {
      "name": "python"
    }
  },
  "cells": [
    {
      "cell_type": "code",
      "execution_count": 2,
      "metadata": {
        "id": "Tl8rwNTkwtRn"
      },
      "outputs": [],
      "source": [
        "import pandas as pd\n"
      ]
    },
    {
      "cell_type": "code",
      "source": [
        "df = pd.read_csv('dulieukhaipha.csv')\n",
        "print(df)"
      ],
      "metadata": {
        "colab": {
          "base_uri": "https://localhost:8080/"
        },
        "id": "thlh6US2yQVz",
        "outputId": "d4ae6d05-6681-44d5-b49b-1d9a0ebdd9dc"
      },
      "execution_count": 13,
      "outputs": [
        {
          "output_type": "stream",
          "name": "stdout",
          "text": [
            "        MaSV           tenSV     namsinh                diachi  sodienthoai  \\\n",
            "0        1.0            John  2001-06-22  Long Thành, Đồng Nai  085976-5739   \n",
            "1        2.0            Mary  2004-07-21  Long Thành, Đồng Nai  087957-6728   \n",
            "2        3.0             Bob  2003-06-20  Long Thành, Đồng Nai  080965-8943   \n",
            "3        4.0           Alice  2003-11-04  Long Thành, Đồng Nai  087279-2710   \n",
            "4        5.0   Maxime Dubois  2003-04-07  Long Thành, Đồng Nai  086157-3947   \n",
            "...      ...             ...         ...                   ...          ...   \n",
            "3152  3152.0    Sofia Garcia  2001-08-22        Quận 7 , TPHCM  081553-1869   \n",
            "3153  3153.0     Emma Müller  2003-08-03        Quận 7 , TPHCM  081873-5101   \n",
            "3154  3154.0      Ali Hassan  2001-08-15        Quận 7 , TPHCM  080265-5839   \n",
            "3155  3155.0   Johanna Weber  2002-11-25        Quận 7 , TPHCM  088988-3574   \n",
            "3156  3156.0  Matteo Ferrari  2001-08-27        Quận 7 , TPHCM  084533-5893   \n",
            "\n",
            "              cmnd  kỳ một  kỳ hai  kỳ ba  kỳ bốn  Unnamed: 10  \n",
            "0     9.740276e+11       8       4      7       6          NaN  \n",
            "1     7.214428e+11       3       4      7       4          NaN  \n",
            "2     6.310526e+11       9       4      3       4          NaN  \n",
            "3     9.259986e+11       7       4      1       2          NaN  \n",
            "4     4.545215e+11       4       2      4       7          NaN  \n",
            "...            ...     ...     ...    ...     ...          ...  \n",
            "3152  6.251500e+11      10       5      2       3          NaN  \n",
            "3153  4.034484e+11       1       8      5       6          NaN  \n",
            "3154  4.694112e+11      10      10      8       4          NaN  \n",
            "3155  8.118747e+11       9       4      5       6          NaN  \n",
            "3156           NaN       4       8      2       1          NaN  \n",
            "\n",
            "[3157 rows x 11 columns]\n"
          ]
        }
      ]
    },
    {
      "cell_type": "code",
      "source": [
        "#Loại bỏ dl rỗng\n",
        "df = df.dropna()"
      ],
      "metadata": {
        "id": "tQGN9YOCyVaq"
      },
      "execution_count": 4,
      "outputs": []
    },
    {
      "cell_type": "code",
      "source": [
        "# Loại bỏ các giá trị trùng lặp\n",
        "df = df.drop_duplicates()"
      ],
      "metadata": {
        "id": "FVe4eR_Ty2dM"
      },
      "execution_count": 5,
      "outputs": []
    },
    {
      "cell_type": "code",
      "source": [
        "# Kiểm tra tính toàn vẹn của dữ liệu và sửa chữa các lỗi nếu có\n",
        "if df.isnull().values.any():\n",
        "    df = df.fillna(0)"
      ],
      "metadata": {
        "id": "oz_mWgfay5kK"
      },
      "execution_count": 6,
      "outputs": []
    },
    {
      "cell_type": "code",
      "source": [
        "# Hiển thị 5 dòng đầu tiên của dataframe\n",
        "print(df.head(5))"
      ],
      "metadata": {
        "colab": {
          "base_uri": "https://localhost:8080/"
        },
        "id": "eKFyJv-JzBXY",
        "outputId": "8306dc34-6460-40f6-96a5-7d3928020ca9"
      },
      "execution_count": 9,
      "outputs": [
        {
          "output_type": "stream",
          "name": "stdout",
          "text": [
            "   MaSV          tenSV     namsinh                diachi  sodienthoai  \\\n",
            "0   1.0           John  2001-06-22  Long Thành, Đồng Nai  085976-5739   \n",
            "1   2.0           Mary  2004-07-21  Long Thành, Đồng Nai  087957-6728   \n",
            "2   3.0            Bob  2003-06-20  Long Thành, Đồng Nai  080965-8943   \n",
            "3   4.0          Alice  2003-11-04  Long Thành, Đồng Nai  087279-2710   \n",
            "4   5.0  Maxime Dubois  2003-04-07  Long Thành, Đồng Nai  086157-3947   \n",
            "\n",
            "           cmnd  kỳ một  kỳ hai  kỳ ba  kỳ bốn  Unnamed: 10  \n",
            "0  9.740276e+11       8       4      7       6          NaN  \n",
            "1  7.214428e+11       3       4      7       4          NaN  \n",
            "2  6.310526e+11       9       4      3       4          NaN  \n",
            "3  9.259986e+11       7       4      1       2          NaN  \n",
            "4  4.545215e+11       4       2      4       7          NaN  \n"
          ]
        }
      ]
    },
    {
      "cell_type": "code",
      "source": [
        "#Xóa các dòng có giá trị thiếu:\n",
        "df.dropna(inplace=True)"
      ],
      "metadata": {
        "id": "Up9_wiR-z3Xf"
      },
      "execution_count": 10,
      "outputs": []
    },
    {
      "cell_type": "code",
      "source": [
        "#Điền các giá trị thiếu với giá trị trung bình:\n",
        "df.fillna(df.mean(), inplace=True)"
      ],
      "metadata": {
        "id": "I7FDRGGCzvr5"
      },
      "execution_count": 11,
      "outputs": []
    },
    {
      "cell_type": "code",
      "source": [
        "#Xóa các ký tự đặc biệt:\n",
        "df['sodienthoai2'] = df['sodienthoai'].str.replace('[^a-zA-Z0-9]', '')\n",
        "df.drop('Unnamed: 10', axis=1, inplace=True)\n",
        "print(df.head(5))"
      ],
      "metadata": {
        "colab": {
          "base_uri": "https://localhost:8080/"
        },
        "id": "_1NEG5O62n15",
        "outputId": "5e6ea6fe-69ab-4caa-8180-d1df8f68de07"
      },
      "execution_count": 14,
      "outputs": [
        {
          "output_type": "stream",
          "name": "stdout",
          "text": [
            "   MaSV          tenSV     namsinh                diachi  sodienthoai  \\\n",
            "0   1.0           John  2001-06-22  Long Thành, Đồng Nai  085976-5739   \n",
            "1   2.0           Mary  2004-07-21  Long Thành, Đồng Nai  087957-6728   \n",
            "2   3.0            Bob  2003-06-20  Long Thành, Đồng Nai  080965-8943   \n",
            "3   4.0          Alice  2003-11-04  Long Thành, Đồng Nai  087279-2710   \n",
            "4   5.0  Maxime Dubois  2003-04-07  Long Thành, Đồng Nai  086157-3947   \n",
            "\n",
            "           cmnd  kỳ một  kỳ hai  kỳ ba  kỳ bốn sodienthoai2  \n",
            "0  9.740276e+11       8       4      7       6   0859765739  \n",
            "1  7.214428e+11       3       4      7       4   0879576728  \n",
            "2  6.310526e+11       9       4      3       4   0809658943  \n",
            "3  9.259986e+11       7       4      1       2   0872792710  \n",
            "4  4.545215e+11       4       2      4       7   0861573947  \n"
          ]
        },
        {
          "output_type": "stream",
          "name": "stderr",
          "text": [
            "<ipython-input-14-e07f04d39e4a>:2: FutureWarning: The default value of regex will change from True to False in a future version.\n",
            "  df['sodienthoai2'] = df['sodienthoai'].str.replace('[^a-zA-Z0-9]', '')\n"
          ]
        }
      ]
    },
    {
      "cell_type": "code",
      "source": [
        "#Chuyển đổi kiểu dữ liệu:\n",
        "df['cmnd2'] = df['cmnd'].astype('string')\n",
        "print(df.head(5))\n"
      ],
      "metadata": {
        "colab": {
          "base_uri": "https://localhost:8080/"
        },
        "id": "ss7i8xGUrvo3",
        "outputId": "307c01a2-f556-41d4-80f1-7c216bb09232"
      },
      "execution_count": 15,
      "outputs": [
        {
          "output_type": "stream",
          "name": "stdout",
          "text": [
            "   MaSV          tenSV     namsinh                diachi  sodienthoai  \\\n",
            "0   1.0           John  2001-06-22  Long Thành, Đồng Nai  085976-5739   \n",
            "1   2.0           Mary  2004-07-21  Long Thành, Đồng Nai  087957-6728   \n",
            "2   3.0            Bob  2003-06-20  Long Thành, Đồng Nai  080965-8943   \n",
            "3   4.0          Alice  2003-11-04  Long Thành, Đồng Nai  087279-2710   \n",
            "4   5.0  Maxime Dubois  2003-04-07  Long Thành, Đồng Nai  086157-3947   \n",
            "\n",
            "           cmnd  kỳ một  kỳ hai  kỳ ba  kỳ bốn sodienthoai2           cmnd2  \n",
            "0  9.740276e+11       8       4      7       6   0859765739  974027562783.0  \n",
            "1  7.214428e+11       3       4      7       4   0879576728  721442797545.0  \n",
            "2  6.310526e+11       9       4      3       4   0809658943  631052578932.0  \n",
            "3  9.259986e+11       7       4      1       2   0872792710  925998635603.0  \n",
            "4  4.545215e+11       4       2      4       7   0861573947  454521465460.0  \n"
          ]
        }
      ]
    },
    {
      "cell_type": "code",
      "source": [
        "#xóa ký tự đặc biệt\n",
        "df['cmnd3'] = df['cmnd2'].str.replace('[.0]', '')\n",
        "#xóa 2 cột dữ cmnd và sodienthoai:\n",
        "df = df.drop(['cmnd', 'sodienthoai'], axis=1)\n",
        "print(df.head(5))\n"
      ],
      "metadata": {
        "colab": {
          "base_uri": "https://localhost:8080/"
        },
        "id": "Ijlq8izHsbqi",
        "outputId": "c868c05a-f160-439e-9c27-807e269bfa3b"
      },
      "execution_count": 16,
      "outputs": [
        {
          "output_type": "stream",
          "name": "stdout",
          "text": [
            "   MaSV          tenSV     namsinh                diachi  kỳ một  kỳ hai  \\\n",
            "0   1.0           John  2001-06-22  Long Thành, Đồng Nai       8       4   \n",
            "1   2.0           Mary  2004-07-21  Long Thành, Đồng Nai       3       4   \n",
            "2   3.0            Bob  2003-06-20  Long Thành, Đồng Nai       9       4   \n",
            "3   4.0          Alice  2003-11-04  Long Thành, Đồng Nai       7       4   \n",
            "4   5.0  Maxime Dubois  2003-04-07  Long Thành, Đồng Nai       4       2   \n",
            "\n",
            "   kỳ ba  kỳ bốn sodienthoai2           cmnd2         cmnd3  \n",
            "0      7       6   0859765739  974027562783.0   97427562783  \n",
            "1      7       4   0879576728  721442797545.0  721442797545  \n",
            "2      3       4   0809658943  631052578932.0   63152578932  \n",
            "3      1       2   0872792710  925998635603.0   92599863563  \n",
            "4      4       7   0861573947  454521465460.0   45452146546  \n"
          ]
        },
        {
          "output_type": "stream",
          "name": "stderr",
          "text": [
            "<ipython-input-16-e6b7f71e7ec4>:2: FutureWarning: The default value of regex will change from True to False in a future version.\n",
            "  df['cmnd3'] = df['cmnd2'].str.replace('[.0]', '')\n"
          ]
        }
      ]
    },
    {
      "cell_type": "code",
      "source": [
        "#gộp cmnd3 đổi thành cmnd 2 \n",
        "df.drop('cmnd2', axis=1, inplace=True)\n",
        "df = df.rename(columns={'cmnd3': 'cmnd2'})\n",
        "print(df.head(5))"
      ],
      "metadata": {
        "colab": {
          "base_uri": "https://localhost:8080/"
        },
        "id": "l4biDbXys3ar",
        "outputId": "13794fda-1549-4fb1-a3b2-0c5df005825a"
      },
      "execution_count": 17,
      "outputs": [
        {
          "output_type": "stream",
          "name": "stdout",
          "text": [
            "   MaSV          tenSV     namsinh                diachi  kỳ một  kỳ hai  \\\n",
            "0   1.0           John  2001-06-22  Long Thành, Đồng Nai       8       4   \n",
            "1   2.0           Mary  2004-07-21  Long Thành, Đồng Nai       3       4   \n",
            "2   3.0            Bob  2003-06-20  Long Thành, Đồng Nai       9       4   \n",
            "3   4.0          Alice  2003-11-04  Long Thành, Đồng Nai       7       4   \n",
            "4   5.0  Maxime Dubois  2003-04-07  Long Thành, Đồng Nai       4       2   \n",
            "\n",
            "   kỳ ba  kỳ bốn sodienthoai2         cmnd2  \n",
            "0      7       6   0859765739   97427562783  \n",
            "1      7       4   0879576728  721442797545  \n",
            "2      3       4   0809658943   63152578932  \n",
            "3      1       2   0872792710   92599863563  \n",
            "4      4       7   0861573947   45452146546  \n"
          ]
        }
      ]
    },
    {
      "cell_type": "code",
      "source": [
        "#THU GIẢM DATA"
      ],
      "metadata": {
        "id": "dgZM0yhdswl3"
      },
      "execution_count": null,
      "outputs": []
    },
    {
      "cell_type": "code",
      "source": [
        "\n",
        "#lấy ngẫu nhiên 50 dòng\n",
        "sampled_df = df.sample(n=50) \n",
        "print(sampled_df)"
      ],
      "metadata": {
        "colab": {
          "base_uri": "https://localhost:8080/"
        },
        "id": "X8trMd1alFaS",
        "outputId": "c65f0768-0074-43a3-bd8c-c1341227c075"
      },
      "execution_count": 18,
      "outputs": [
        {
          "output_type": "stream",
          "name": "stdout",
          "text": [
            "        MaSV             tenSV     namsinh                diachi  kỳ một  \\\n",
            "13      14.0   Maria Hernandez  2004-03-18  Long Thành, Đồng Nai       7   \n",
            "1167  1167.0         Sarah Kim  2003-11-03        Quận 9 , TPHCM       8   \n",
            "1757  1757.0       Emma Müller  2002-04-28        Quận 9 , TPHCM       2   \n",
            "2772  2772.0         Sarah Kim  2003-01-29        Quận 7 , TPHCM       7   \n",
            "1691  1691.0    Ahmed Al-Sayed  2002-05-31        Quận 9 , TPHCM       1   \n",
            "2065  2065.0        Ali Hassan  2002-03-18       Thủ Đức , TPHCM       7   \n",
            "2087  2087.0    Isabella Rossi  2000-11-16       Thủ Đức , TPHCM       3   \n",
            "1028  1028.0      Emma Johnson  2001-09-20        Gò Vấp , TPHCM       2   \n",
            "609    609.0       William Lee  2001-07-08        Gò Vấp , TPHCM       3   \n",
            "1578  1578.0         Leila Ali  2003-02-25        Quận 9 , TPHCM       5   \n",
            "434    435.0         Leila Ali  2004-01-17        Gò Vấp , TPHCM       9   \n",
            "2720  2720.0      Lucas Martin  2004-11-21       Thủ Đức , TPHCM       6   \n",
            "276    277.0        Ali Hassan  2003-04-06        Gò Vấp , TPHCM       9   \n",
            "2426  2426.0        Liam Brown  2001-05-05       Thủ Đức , TPHCM       9   \n",
            "1106  1106.0      Lukas Becker  2003-08-08        Quận 9 , TPHCM       3   \n",
            "678    678.0         Amir Kaur  2002-09-09        Gò Vấp , TPHCM       8   \n",
            "222    223.0      Emma Johnson  2001-12-18        Gò Vấp , TPHCM       4   \n",
            "1765  1765.0       William Lee  2001-06-05        Quận 9 , TPHCM       7   \n",
            "1839  1839.0       Anna Müller  2003-04-26        Quận 9 , TPHCM       9   \n",
            "1293  1293.0  Miguel Rodriguez  2001-02-20        Quận 9 , TPHCM       3   \n",
            "1419  1419.0       Emma Müller  2004-01-03        Quận 9 , TPHCM       7   \n",
            "767    767.0         Lucas Kim  2003-07-16        Gò Vấp , TPHCM       6   \n",
            "2555  2555.0        Liam Brown  2004-08-01       Thủ Đức , TPHCM       2   \n",
            "2741  2741.0         Sarah Kim  2003-10-11       Thủ Đức , TPHCM       7   \n",
            "2414  2414.0      Sofia Garcia  2004-04-12       Thủ Đức , TPHCM       8   \n",
            "2929  2929.0      Lucas Martin  2004-08-08        Quận 7 , TPHCM       7   \n",
            "1428  1428.0     Maxime Dubois  2003-05-31        Quận 9 , TPHCM       8   \n",
            "482    483.0   Johanna Schmidt  2001-12-10        Gò Vấp , TPHCM      10   \n",
            "2139  2139.0   Maria Hernandez  2003-04-20       Thủ Đức , TPHCM       4   \n",
            "2017  2017.0     Johanna Weber  2002-02-18       Thủ Đức , TPHCM       5   \n",
            "1568  1568.0       Anna Müller  2002-11-28        Quận 9 , TPHCM       7   \n",
            "551    551.0    Matteo Bianchi  2004-08-15        Gò Vấp , TPHCM       4   \n",
            "3083  3083.0    Isabella Rossi  2003-11-26        Quận 7 , TPHCM       6   \n",
            "3119  3119.0   María Fernández  2002-08-27        Quận 7 , TPHCM       4   \n",
            "2049  2049.0    Matteo Ferrari  2003-11-06       Thủ Đức , TPHCM       5   \n",
            "1016  1016.0   María Fernández  2003-11-27        Gò Vấp , TPHCM       6   \n",
            "1465  1465.0         Amir Kaur  2002-02-18        Quận 9 , TPHCM       6   \n",
            "2188  2188.0    Chiara Bianchi  2000-12-14       Thủ Đức , TPHCM       5   \n",
            "626    626.0         Leila Ali  2001-02-14        Gò Vấp , TPHCM       9   \n",
            "342    343.0       Emma Müller  2004-01-16        Gò Vấp , TPHCM       5   \n",
            "577    577.0   Sofia Rodriguez  2003-04-29        Gò Vấp , TPHCM       4   \n",
            "1401  1401.0   Maria Hernandez  2004-01-27        Quận 9 , TPHCM       9   \n",
            "2932  2932.0        Ali Hassan  2002-02-09        Quận 7 , TPHCM       2   \n",
            "1613  1613.0      Lucas Martin  2002-03-12        Quận 9 , TPHCM       6   \n",
            "2200  2200.0   Sofia Rodriguez  2004-06-14       Thủ Đức , TPHCM       2   \n",
            "885    885.0    Chiara Bianchi  2004-07-15        Gò Vấp , TPHCM       4   \n",
            "1296  1296.0         Sarah Kim  2004-10-03        Quận 9 , TPHCM       9   \n",
            "519    520.0      Emily Wilson  2004-11-02        Gò Vấp , TPHCM       9   \n",
            "675    675.0   Sofia Rodriguez  2001-03-23        Gò Vấp , TPHCM       3   \n",
            "1984  1984.0       Emma Müller  2001-04-13        Quận 9 , TPHCM       7   \n",
            "\n",
            "      kỳ hai  kỳ ba  kỳ bốn sodienthoai2         cmnd2  \n",
            "13         7      4       5   0896776982   34531491235  \n",
            "1167       2      4       5   0846118578    7247841685  \n",
            "1757       7     10       5   0847978167   16129923554  \n",
            "2772       3      4       7   0875347965   78845519342  \n",
            "1691       2      8       9   0897811126   92662973647  \n",
            "2065       4      9       8   0838904521   62912393875  \n",
            "2087       5      4       4   0862183234    1528632536  \n",
            "1028       8      1       9   0817844188  198851876687  \n",
            "609        7      6       4   0869311535    5472355229  \n",
            "1578      10      6       5   0804082598  462874891381  \n",
            "434        5     10      10   0885608026  183827448538  \n",
            "2720       9      2       6   0860600003      19636162  \n",
            "276        9      8       2   0868505568   22622428385  \n",
            "2426       1      2       2   0805500135    9584822132  \n",
            "1106       8      3       5   0887391545     337128698  \n",
            "678        8      9       4   0822085075  276556533143  \n",
            "222        4      8       5   0817419456   34259164515  \n",
            "1765       8      7      10   0869438132  691915563283  \n",
            "1839       2      3       9   0877629380   51197864853  \n",
            "1293       6      6       3   0857554576  262452332568  \n",
            "1419       7      9       7   0868965648   73837514526  \n",
            "767        5      5       2   0846745344     352915344  \n",
            "2555       7      1       7   0873755143   97433691291  \n",
            "2741       3      1       1   0829153898    9541423857  \n",
            "2414       3      9      10   0865799012  943276226875  \n",
            "2929       1      7       1   0827813779   47535365923  \n",
            "1428       3      5       8   0809461639  185589873568  \n",
            "482       10      3       2   0872723429   97249891516  \n",
            "2139       5      5       2   0809017844       2346564  \n",
            "2017       7      4       1   0868664177     372997474  \n",
            "1568       7      1       1   0896568512   53744243278  \n",
            "551       10      8       1   0867872205     837575112  \n",
            "3083       6      8       2   0843734456  419564665253  \n",
            "3119       8     10       2   0899206346  194577147317  \n",
            "2049       7      6       5   0890689699   85964776521  \n",
            "1016       4      9       4   0888212800  324425545616  \n",
            "1465       7      8       7   0807453563   15823519441  \n",
            "2188       9      9       7   0898412847   47637715467  \n",
            "626        8      2       6   0886172920  658297886875  \n",
            "342        6      9       8   0898015011     824698589  \n",
            "577        3      2       6   0856355118  956867921956  \n",
            "1401       5      5       2   0894480765   99755776248  \n",
            "2932       9      7       4   0881809741   88589675621  \n",
            "1613       4      3       9   0884319843  135568155676  \n",
            "2200       7      6       1   0830460469    2971598454  \n",
            "885        8      3       7   0833244964   86962798819  \n",
            "1296       1      8       6   0856107831   45366499614  \n",
            "519        7      3       2   0864368585   53831215845  \n",
            "675        8      4       6   0867162470     372442172  \n",
            "1984       7      5       6   0801346100   81227674266  \n"
          ]
        }
      ]
    },
    {
      "cell_type": "code",
      "source": [
        "#Sử dụng thuật toán Random Forest Regressor\n",
        "from sklearn.ensemble import RandomForestRegressor\n",
        "from sklearn.model_selection import train_test_split\n",
        "from sklearn.metrics import mean_squared_error, mean_absolute_error"
      ],
      "metadata": {
        "id": "cK5ZtCkLsPR3"
      },
      "execution_count": 19,
      "outputs": []
    },
    {
      "cell_type": "code",
      "source": [
        "print(df)"
      ],
      "metadata": {
        "colab": {
          "base_uri": "https://localhost:8080/"
        },
        "id": "av6fxhBq1ZZD",
        "outputId": "7093aac5-935c-4d89-d0c8-4c97041b20b9"
      },
      "execution_count": 20,
      "outputs": [
        {
          "output_type": "stream",
          "name": "stdout",
          "text": [
            "        MaSV           tenSV     namsinh                diachi  kỳ một  \\\n",
            "0        1.0            John  2001-06-22  Long Thành, Đồng Nai       8   \n",
            "1        2.0            Mary  2004-07-21  Long Thành, Đồng Nai       3   \n",
            "2        3.0             Bob  2003-06-20  Long Thành, Đồng Nai       9   \n",
            "3        4.0           Alice  2003-11-04  Long Thành, Đồng Nai       7   \n",
            "4        5.0   Maxime Dubois  2003-04-07  Long Thành, Đồng Nai       4   \n",
            "...      ...             ...         ...                   ...     ...   \n",
            "3152  3152.0    Sofia Garcia  2001-08-22        Quận 7 , TPHCM      10   \n",
            "3153  3153.0     Emma Müller  2003-08-03        Quận 7 , TPHCM       1   \n",
            "3154  3154.0      Ali Hassan  2001-08-15        Quận 7 , TPHCM      10   \n",
            "3155  3155.0   Johanna Weber  2002-11-25        Quận 7 , TPHCM       9   \n",
            "3156  3156.0  Matteo Ferrari  2001-08-27        Quận 7 , TPHCM       4   \n",
            "\n",
            "      kỳ hai  kỳ ba  kỳ bốn sodienthoai2         cmnd2  \n",
            "0          4      7       6   0859765739   97427562783  \n",
            "1          4      7       4   0879576728  721442797545  \n",
            "2          4      3       4   0809658943   63152578932  \n",
            "3          4      1       2   0872792710   92599863563  \n",
            "4          2      4       7   0861573947   45452146546  \n",
            "...      ...    ...     ...          ...           ...  \n",
            "3152       5      2       3   0815531869    6251539512  \n",
            "3153       8      5       6   0818735101   43448366253  \n",
            "3154      10      8       4   0802655839  469411159427  \n",
            "3155       4      5       6   0889883574   81187474773  \n",
            "3156       8      2       1   0845335893          <NA>  \n",
            "\n",
            "[3157 rows x 10 columns]\n"
          ]
        }
      ]
    },
    {
      "cell_type": "code",
      "source": [
        "#xóa các cột không liên quan thu gọn dữ liệu:\n",
        "\n",
        "df.drop('cmnd2', axis=1, inplace=True)\n",
        "\n",
        "print(df)"
      ],
      "metadata": {
        "colab": {
          "base_uri": "https://localhost:8080/"
        },
        "id": "ij2NZY747b9F",
        "outputId": "c27957e0-a516-4b25-e11f-be85eabcb076"
      },
      "execution_count": 26,
      "outputs": [
        {
          "output_type": "stream",
          "name": "stdout",
          "text": [
            "      kỳ một  kỳ hai  kỳ ba  kỳ bốn\n",
            "0          8       4      7       6\n",
            "1          3       4      7       4\n",
            "2          9       4      3       4\n",
            "3          7       4      1       2\n",
            "4          4       2      4       7\n",
            "...      ...     ...    ...     ...\n",
            "3152      10       5      2       3\n",
            "3153       1       8      5       6\n",
            "3154      10      10      8       4\n",
            "3155       9       4      5       6\n",
            "3156       4       8      2       1\n",
            "\n",
            "[3157 rows x 4 columns]\n"
          ]
        }
      ]
    },
    {
      "cell_type": "code",
      "source": [
        "#tạo cột kì 5 để làm y(nhãn để dự đoán kỳ sao):\n",
        "df['kỳ năm'] = df['kỳ bốn'].astype('float')\n",
        "print(df.head(5))"
      ],
      "metadata": {
        "colab": {
          "base_uri": "https://localhost:8080/"
        },
        "id": "OYLzxyGYFKAE",
        "outputId": "39b77896-cee1-4388-ca90-efa9d1227d5b"
      },
      "execution_count": 27,
      "outputs": [
        {
          "output_type": "stream",
          "name": "stdout",
          "text": [
            "   kỳ một  kỳ hai  kỳ ba  kỳ bốn  kỳ năm\n",
            "0       8       4      7       6     6.0\n",
            "1       3       4      7       4     4.0\n",
            "2       9       4      3       4     4.0\n",
            "3       7       4      1       2     2.0\n",
            "4       4       2      4       7     7.0\n"
          ]
        }
      ]
    },
    {
      "cell_type": "code",
      "source": [
        "# tách dữ liệu thành X và y\n",
        "X = df.iloc[:, :-1]\n",
        "y = df.iloc[:, -1]\n",
        "print(X)\n"
      ],
      "metadata": {
        "colab": {
          "base_uri": "https://localhost:8080/"
        },
        "id": "yvIJggBf1j2e",
        "outputId": "c928f2f0-2c93-4bd2-a615-1e92eaf901c0"
      },
      "execution_count": 28,
      "outputs": [
        {
          "output_type": "stream",
          "name": "stdout",
          "text": [
            "      kỳ một  kỳ hai  kỳ ba  kỳ bốn\n",
            "0          8       4      7       6\n",
            "1          3       4      7       4\n",
            "2          9       4      3       4\n",
            "3          7       4      1       2\n",
            "4          4       2      4       7\n",
            "...      ...     ...    ...     ...\n",
            "3152      10       5      2       3\n",
            "3153       1       8      5       6\n",
            "3154      10      10      8       4\n",
            "3155       9       4      5       6\n",
            "3156       4       8      2       1\n",
            "\n",
            "[3157 rows x 4 columns]\n"
          ]
        }
      ]
    },
    {
      "cell_type": "code",
      "source": [
        "print(y)"
      ],
      "metadata": {
        "colab": {
          "base_uri": "https://localhost:8080/"
        },
        "id": "qfPRwqJs13E1",
        "outputId": "a51842f4-da27-43a6-f69a-1e74c4203ec2"
      },
      "execution_count": 29,
      "outputs": [
        {
          "output_type": "stream",
          "name": "stdout",
          "text": [
            "0       6.0\n",
            "1       4.0\n",
            "2       4.0\n",
            "3       2.0\n",
            "4       7.0\n",
            "       ... \n",
            "3152    3.0\n",
            "3153    6.0\n",
            "3154    4.0\n",
            "3155    6.0\n",
            "3156    1.0\n",
            "Name: kỳ năm, Length: 3157, dtype: float64\n"
          ]
        }
      ]
    },
    {
      "cell_type": "code",
      "source": [
        "# tách dữ liệu thành tập huấn luyện và tập kiểm tra\n",
        "X_train, X_test, y_train, y_test = train_test_split(X, y, test_size=0.2, random_state=42)"
      ],
      "metadata": {
        "id": "ehOVieXX-DT1"
      },
      "execution_count": 30,
      "outputs": []
    },
    {
      "cell_type": "code",
      "source": [
        "print(y_train)"
      ],
      "metadata": {
        "colab": {
          "base_uri": "https://localhost:8080/"
        },
        "id": "UrqEOh3JEmaX",
        "outputId": "e645f12a-36e4-45cc-c3ca-04e01b2be49e"
      },
      "execution_count": 31,
      "outputs": [
        {
          "output_type": "stream",
          "name": "stdout",
          "text": [
            "678     4.0\n",
            "2665    4.0\n",
            "1730    9.0\n",
            "1737    7.0\n",
            "2850    3.0\n",
            "       ... \n",
            "3092    2.0\n",
            "1095    7.0\n",
            "1130    9.0\n",
            "1294    7.0\n",
            "860     2.0\n",
            "Name: kỳ năm, Length: 2525, dtype: float64\n"
          ]
        }
      ]
    },
    {
      "cell_type": "code",
      "source": [
        "# khởi tạo mô hình Random Forest Regressor\n",
        "rf = RandomForestRegressor(n_estimators=100, random_state=42)"
      ],
      "metadata": {
        "id": "8uVw7WgX-LPV"
      },
      "execution_count": 32,
      "outputs": []
    },
    {
      "cell_type": "code",
      "source": [
        "# huấn luyện mô hình trên tập huấn luyện\n",
        "rf.fit(X_train, y_train)"
      ],
      "metadata": {
        "colab": {
          "base_uri": "https://localhost:8080/",
          "height": 75
        },
        "id": "l9RnxM3Y_PvR",
        "outputId": "6dc66ad6-ce22-4e54-aac7-7bba5fdf51ef"
      },
      "execution_count": 33,
      "outputs": [
        {
          "output_type": "execute_result",
          "data": {
            "text/plain": [
              "RandomForestRegressor(random_state=42)"
            ],
            "text/html": [
              "<style>#sk-container-id-1 {color: black;background-color: white;}#sk-container-id-1 pre{padding: 0;}#sk-container-id-1 div.sk-toggleable {background-color: white;}#sk-container-id-1 label.sk-toggleable__label {cursor: pointer;display: block;width: 100%;margin-bottom: 0;padding: 0.3em;box-sizing: border-box;text-align: center;}#sk-container-id-1 label.sk-toggleable__label-arrow:before {content: \"▸\";float: left;margin-right: 0.25em;color: #696969;}#sk-container-id-1 label.sk-toggleable__label-arrow:hover:before {color: black;}#sk-container-id-1 div.sk-estimator:hover label.sk-toggleable__label-arrow:before {color: black;}#sk-container-id-1 div.sk-toggleable__content {max-height: 0;max-width: 0;overflow: hidden;text-align: left;background-color: #f0f8ff;}#sk-container-id-1 div.sk-toggleable__content pre {margin: 0.2em;color: black;border-radius: 0.25em;background-color: #f0f8ff;}#sk-container-id-1 input.sk-toggleable__control:checked~div.sk-toggleable__content {max-height: 200px;max-width: 100%;overflow: auto;}#sk-container-id-1 input.sk-toggleable__control:checked~label.sk-toggleable__label-arrow:before {content: \"▾\";}#sk-container-id-1 div.sk-estimator input.sk-toggleable__control:checked~label.sk-toggleable__label {background-color: #d4ebff;}#sk-container-id-1 div.sk-label input.sk-toggleable__control:checked~label.sk-toggleable__label {background-color: #d4ebff;}#sk-container-id-1 input.sk-hidden--visually {border: 0;clip: rect(1px 1px 1px 1px);clip: rect(1px, 1px, 1px, 1px);height: 1px;margin: -1px;overflow: hidden;padding: 0;position: absolute;width: 1px;}#sk-container-id-1 div.sk-estimator {font-family: monospace;background-color: #f0f8ff;border: 1px dotted black;border-radius: 0.25em;box-sizing: border-box;margin-bottom: 0.5em;}#sk-container-id-1 div.sk-estimator:hover {background-color: #d4ebff;}#sk-container-id-1 div.sk-parallel-item::after {content: \"\";width: 100%;border-bottom: 1px solid gray;flex-grow: 1;}#sk-container-id-1 div.sk-label:hover label.sk-toggleable__label {background-color: #d4ebff;}#sk-container-id-1 div.sk-serial::before {content: \"\";position: absolute;border-left: 1px solid gray;box-sizing: border-box;top: 0;bottom: 0;left: 50%;z-index: 0;}#sk-container-id-1 div.sk-serial {display: flex;flex-direction: column;align-items: center;background-color: white;padding-right: 0.2em;padding-left: 0.2em;position: relative;}#sk-container-id-1 div.sk-item {position: relative;z-index: 1;}#sk-container-id-1 div.sk-parallel {display: flex;align-items: stretch;justify-content: center;background-color: white;position: relative;}#sk-container-id-1 div.sk-item::before, #sk-container-id-1 div.sk-parallel-item::before {content: \"\";position: absolute;border-left: 1px solid gray;box-sizing: border-box;top: 0;bottom: 0;left: 50%;z-index: -1;}#sk-container-id-1 div.sk-parallel-item {display: flex;flex-direction: column;z-index: 1;position: relative;background-color: white;}#sk-container-id-1 div.sk-parallel-item:first-child::after {align-self: flex-end;width: 50%;}#sk-container-id-1 div.sk-parallel-item:last-child::after {align-self: flex-start;width: 50%;}#sk-container-id-1 div.sk-parallel-item:only-child::after {width: 0;}#sk-container-id-1 div.sk-dashed-wrapped {border: 1px dashed gray;margin: 0 0.4em 0.5em 0.4em;box-sizing: border-box;padding-bottom: 0.4em;background-color: white;}#sk-container-id-1 div.sk-label label {font-family: monospace;font-weight: bold;display: inline-block;line-height: 1.2em;}#sk-container-id-1 div.sk-label-container {text-align: center;}#sk-container-id-1 div.sk-container {/* jupyter's `normalize.less` sets `[hidden] { display: none; }` but bootstrap.min.css set `[hidden] { display: none !important; }` so we also need the `!important` here to be able to override the default hidden behavior on the sphinx rendered scikit-learn.org. See: https://github.com/scikit-learn/scikit-learn/issues/21755 */display: inline-block !important;position: relative;}#sk-container-id-1 div.sk-text-repr-fallback {display: none;}</style><div id=\"sk-container-id-1\" class=\"sk-top-container\"><div class=\"sk-text-repr-fallback\"><pre>RandomForestRegressor(random_state=42)</pre><b>In a Jupyter environment, please rerun this cell to show the HTML representation or trust the notebook. <br />On GitHub, the HTML representation is unable to render, please try loading this page with nbviewer.org.</b></div><div class=\"sk-container\" hidden><div class=\"sk-item\"><div class=\"sk-estimator sk-toggleable\"><input class=\"sk-toggleable__control sk-hidden--visually\" id=\"sk-estimator-id-1\" type=\"checkbox\" checked><label for=\"sk-estimator-id-1\" class=\"sk-toggleable__label sk-toggleable__label-arrow\">RandomForestRegressor</label><div class=\"sk-toggleable__content\"><pre>RandomForestRegressor(random_state=42)</pre></div></div></div></div></div>"
            ]
          },
          "metadata": {},
          "execution_count": 33
        }
      ]
    },
    {
      "cell_type": "code",
      "source": [
        "# đánh giá mô hình trên tập kiểm tra\n",
        "y_pred = rf.predict(X_test)\n",
        "mse = mean_squared_error(y_test, y_pred)\n",
        "mae = mean_absolute_error(y_test, y_pred)\n",
        "print('Mean squared error:', mse)\n",
        "print('Mean absolute error:', mae)"
      ],
      "metadata": {
        "colab": {
          "base_uri": "https://localhost:8080/"
        },
        "id": "g4JU5YdHGU2k",
        "outputId": "716cff5f-e299-4584-d6ad-63cc074d110f"
      },
      "execution_count": 34,
      "outputs": [
        {
          "output_type": "stream",
          "name": "stdout",
          "text": [
            "Mean squared error: 0.0\n",
            "Mean absolute error: 0.0\n"
          ]
        }
      ]
    },
    {
      "cell_type": "code",
      "source": [
        "# dự đoán kết quả học tập kì sau\n",
        "new_data = [[9,8,9,6]] # kết quả học tập của các kì trước\n",
        "new_pred = rf.predict(new_data)\n"
      ],
      "metadata": {
        "colab": {
          "base_uri": "https://localhost:8080/"
        },
        "id": "msDNiVjEGcLZ",
        "outputId": "071311b3-6299-4640-e246-4ea71ce4ff59"
      },
      "execution_count": 35,
      "outputs": [
        {
          "output_type": "stream",
          "name": "stderr",
          "text": [
            "/usr/local/lib/python3.9/dist-packages/sklearn/base.py:439: UserWarning: X does not have valid feature names, but RandomForestRegressor was fitted with feature names\n",
            "  warnings.warn(\n"
          ]
        }
      ]
    },
    {
      "cell_type": "code",
      "source": [
        "print('Predicted score:', new_pred)"
      ],
      "metadata": {
        "colab": {
          "base_uri": "https://localhost:8080/"
        },
        "id": "XaHkbtisHN0f",
        "outputId": "936e4f19-17c8-4ae6-e72e-1dd775efc6c9"
      },
      "execution_count": 36,
      "outputs": [
        {
          "output_type": "stream",
          "name": "stdout",
          "text": [
            "Predicted score: [6.]\n"
          ]
        }
      ]
    },
    {
      "cell_type": "code",
      "source": [
        "#Tối ưu băng cách nhập dữ liệu từ bàn phím:\n",
        "while True:\n",
        "  k1 = int(input('nhap diem ki 1 (nhap 0 de dung): '))\n",
        "  if k1<=0:\n",
        "    break\n",
        "  k2 = int(input('nhap diem ki 2 (nhap 0 de dung): '))\n",
        "  k3 = int(input('nhap diem ki 3 (nhap 0 de dung): '))\n",
        "  k4 = int(input('nhap diem ki 4 (nhap 0 de dung): '))\n",
        " \n",
        "  new_data = [[float(k1),float(k2),float(k3),float(k4)]] # kết quả học tập của các kì trước\n",
        "  new_pred = rf.predict(new_data)\n",
        "  if int(new_pred)>5 and int(new_pred)<=7:\n",
        "    kq=\"Trung bình\"\n",
        "  elif int(new_pred)>7 and int(new_pred)<=8.5:\n",
        "    kq=\"Khá\"\n",
        "  elif int(new_pred)>8.5:\n",
        "    kq=\"Giỏi\"\n",
        "  else: kq=\"Yếu\"\n",
        "  print('neu diem ki 1 2 3 4 lan luot la ',k1,k2,k3,k4,' thi diem ki sau la: ', float(new_pred), \"Loại\",kq)\n"
      ],
      "metadata": {
        "colab": {
          "base_uri": "https://localhost:8080/"
        },
        "id": "O8FBBl39Jusm",
        "outputId": "40205d57-9267-430b-89ca-f9ee3bb26d36"
      },
      "execution_count": 45,
      "outputs": [
        {
          "name": "stdout",
          "output_type": "stream",
          "text": [
            "nhap diem ki 1 (nhap 0 de dung): 0\n"
          ]
        }
      ]
    },
    {
      "cell_type": "code",
      "source": [
        "import pandas as pd\n",
        "from sklearn.linear_model import LinearRegression\n",
        "from sklearn.model_selection import train_test_split\n",
        "from sklearn.metrics import mean_squared_error"
      ],
      "metadata": {
        "id": "dblxzHFlUX4S"
      },
      "execution_count": 46,
      "outputs": []
    },
    {
      "cell_type": "code",
      "source": [
        "#sử dụng lại dữ liệu đã làm sạch và thu gọn\n",
        "df.drop('kỳ năm', axis=1, inplace=True)\n",
        "print(df)\n"
      ],
      "metadata": {
        "colab": {
          "base_uri": "https://localhost:8080/"
        },
        "id": "anbVEjKIDP07",
        "outputId": "22a64813-fb3f-4740-8b40-100b29859e84"
      },
      "execution_count": 48,
      "outputs": [
        {
          "output_type": "stream",
          "name": "stdout",
          "text": [
            "      kỳ một  kỳ hai  kỳ ba  kỳ bốn\n",
            "0          8       4      7       6\n",
            "1          3       4      7       4\n",
            "2          9       4      3       4\n",
            "3          7       4      1       2\n",
            "4          4       2      4       7\n",
            "...      ...     ...    ...     ...\n",
            "3152      10       5      2       3\n",
            "3153       1       8      5       6\n",
            "3154      10      10      8       4\n",
            "3155       9       4      5       6\n",
            "3156       4       8      2       1\n",
            "\n",
            "[3157 rows x 4 columns]\n"
          ]
        }
      ]
    },
    {
      "cell_type": "code",
      "source": [
        "# Chọn các đặc trưng đầu vào và nhãn\n",
        "features = df[['kỳ một', 'kỳ hai', 'kỳ ba','kỳ bốn']].values\n",
        "labels = df['kỳ một'].values"
      ],
      "metadata": {
        "id": "RFX14QcHDbIz"
      },
      "execution_count": 50,
      "outputs": []
    },
    {
      "cell_type": "code",
      "source": [
        "# Chia tập dữ liệu thành tập huấn luyện và tập kiểm tra\n",
        "X_train, X_test, y_train, y_test = train_test_split(features, labels, test_size=0.2)"
      ],
      "metadata": {
        "id": "GeoJ_Q1XEW-h"
      },
      "execution_count": 51,
      "outputs": []
    },
    {
      "cell_type": "code",
      "source": [
        "print(X_train)"
      ],
      "metadata": {
        "colab": {
          "base_uri": "https://localhost:8080/"
        },
        "id": "RGWhqqT9EaiW",
        "outputId": "0aec0dfe-3505-4d2b-8ff7-cfc3a9279ad6"
      },
      "execution_count": 54,
      "outputs": [
        {
          "output_type": "stream",
          "name": "stdout",
          "text": [
            "[[ 6  7  3  8]\n",
            " [ 9 10  4  4]\n",
            " [ 3  6  4  2]\n",
            " ...\n",
            " [ 7  7  9  6]\n",
            " [ 6  7  9  8]\n",
            " [ 5  9  8 10]]\n"
          ]
        }
      ]
    },
    {
      "cell_type": "code",
      "source": [
        "print(X_test)"
      ],
      "metadata": {
        "colab": {
          "base_uri": "https://localhost:8080/"
        },
        "id": "L-WMyflcGF3t",
        "outputId": "9540fc4a-c544-4de0-b83b-04d0d11784e3"
      },
      "execution_count": 58,
      "outputs": [
        {
          "output_type": "stream",
          "name": "stdout",
          "text": [
            "[[ 9 10  9  7]\n",
            " [ 5  9  7  2]\n",
            " [ 5  4  7  7]\n",
            " ...\n",
            " [ 8  4  2  5]\n",
            " [ 9  7  5  1]\n",
            " [ 6  4  8  8]]\n"
          ]
        }
      ]
    },
    {
      "cell_type": "code",
      "source": [
        "print(y_test)"
      ],
      "metadata": {
        "colab": {
          "base_uri": "https://localhost:8080/"
        },
        "id": "WSoIdkhjGN2V",
        "outputId": "2625df3b-163f-4dbe-9223-eff7d0cc428e"
      },
      "execution_count": 59,
      "outputs": [
        {
          "output_type": "stream",
          "name": "stdout",
          "text": [
            "[ 9  5  5  3  4  7 10  2  7  2  7  4  3  9  3  6  8 10  2 10 10  5  8  5\n",
            " 10  9  8  8  7  1  5  5  1  9  3  7  9  1  4  2  2  3  4  7 10  6  9  3\n",
            "  2  5 10  8  6  8  5  2  8  3  6  9  3  9  5  6  2  1  9  6  4  9  5  2\n",
            "  9  4  2 10  2  9  6  8  9  2  5  6  6  4  6  5  2  1  9  9  2  9  8  1\n",
            " 10 10 10  7  1  9  4 10  2  2  7  4  5  9  2  2  7  9  9  7  7  2  5  6\n",
            "  8  9  7  5  6  7  8  4  4  9  1  2 10  6  5  9  2  3  5 10 10  2  5  2\n",
            "  3  6  4  6  9  1  9  8  4  7  8  5  5  4  5  1  1  9  9  9  6 10  7  5\n",
            "  4  3  8  8  9  7  8  7  9  8  9  6 10  6  3  2  2  7  3  6  4  6  8  3\n",
            "  1  1  9  6  4  4  1  1  7  8  7  4  9  3  2  8  3 10  1  2  7  9  3  3\n",
            "  5  4  3  2  5  6 10  2 10  1  9  3  6 10  9  8  9  9  7  2  3  9  3  4\n",
            "  5  7  6  4  7  2  6  2  3  8 10  8  7  8  5  6  7  9  5  5  1  7  8  1\n",
            " 10  2  3  3  5  7  9  6  5  4  7  8  3  3  4  5  4  3  4  8  2  8  3  3\n",
            "  2  3  8  3  5  9  6  1  8  5  4  4  8  4  9  3  1  6  6  6  8  8  8  2\n",
            "  7  3  9  3  9  9  6  4  9  2  3  2  3  5  9  2  8  6  2  9  5  7  9  4\n",
            "  3  2  5  4  3  4  6  2  7  4  8  6  5  5 10  2  4  3  1  7  2 10  3 10\n",
            " 10  5  2  5  6  6  1  4  4  7  7  8  8  4  3  9  4  5  8 10  3  2  5  2\n",
            "  2  4  4  6  1  2  7  8  3  6  9  7  4  4  8  1  6  5  8 10  5  8  7  6\n",
            "  8  8  7  8  6  4  5  9  6  4  8  1  3  9  6  5  7  8  7  4  3  6 10  9\n",
            "  7  5  4 10  2  7  5  5  6  2  6  9  6  4  1  8  7  3  2  4  8  7  1  5\n",
            "  5 10  9  7  7 10  8  9  5  8  4  1  1  8  8  9  3  2  2  5  3  6  5  5\n",
            "  4  8  2  3  1  3  7  6 10  6  4  4  2  6  8  7  5  5  4  8  3  4  3  3\n",
            "  2  2  6  8  7  3  7  2 10  4  4  6 10  8  7  9  9  8  1  9  6  8  5  6\n",
            "  5  4  1  9  8  2  2 10  5  2  4  9 10  3  4  4  2 10  6  2  8  6  7  1\n",
            "  7  9  2  2  7  3  7  6  2  5  4  5  4  8  3  1  8  7  6  3  2  9  7  7\n",
            "  4  1  9  9  2  9  5  9  8  9  6  8 10  7  5  5 10  8  6  8  2  5  5  7\n",
            "  9 10  2  9  9  2  5  7  3  7  2  6  9  1  9  9  3  1  7  3  7  7  9  2\n",
            "  6  6 10  4  9  8  9  6]\n"
          ]
        }
      ]
    },
    {
      "cell_type": "code",
      "source": [
        "print(y_train)"
      ],
      "metadata": {
        "colab": {
          "base_uri": "https://localhost:8080/"
        },
        "id": "kTXfV9hkElaF",
        "outputId": "d1dedc0b-dd08-4a34-bb8f-65b4ac8c83cb"
      },
      "execution_count": 53,
      "outputs": [
        {
          "output_type": "stream",
          "name": "stdout",
          "text": [
            "[6 9 3 ... 7 6 5]\n"
          ]
        }
      ]
    },
    {
      "cell_type": "code",
      "source": [
        "# Xây dựng mô hình Linear Regression\n",
        "lr = LinearRegression()\n",
        "lr.fit(X_train, y_train)"
      ],
      "metadata": {
        "colab": {
          "base_uri": "https://localhost:8080/",
          "height": 75
        },
        "id": "8kyUaiUnE4RO",
        "outputId": "35bf196e-a6d9-4f94-f9a3-92c042819f3a"
      },
      "execution_count": 55,
      "outputs": [
        {
          "output_type": "execute_result",
          "data": {
            "text/plain": [
              "LinearRegression()"
            ],
            "text/html": [
              "<style>#sk-container-id-2 {color: black;background-color: white;}#sk-container-id-2 pre{padding: 0;}#sk-container-id-2 div.sk-toggleable {background-color: white;}#sk-container-id-2 label.sk-toggleable__label {cursor: pointer;display: block;width: 100%;margin-bottom: 0;padding: 0.3em;box-sizing: border-box;text-align: center;}#sk-container-id-2 label.sk-toggleable__label-arrow:before {content: \"▸\";float: left;margin-right: 0.25em;color: #696969;}#sk-container-id-2 label.sk-toggleable__label-arrow:hover:before {color: black;}#sk-container-id-2 div.sk-estimator:hover label.sk-toggleable__label-arrow:before {color: black;}#sk-container-id-2 div.sk-toggleable__content {max-height: 0;max-width: 0;overflow: hidden;text-align: left;background-color: #f0f8ff;}#sk-container-id-2 div.sk-toggleable__content pre {margin: 0.2em;color: black;border-radius: 0.25em;background-color: #f0f8ff;}#sk-container-id-2 input.sk-toggleable__control:checked~div.sk-toggleable__content {max-height: 200px;max-width: 100%;overflow: auto;}#sk-container-id-2 input.sk-toggleable__control:checked~label.sk-toggleable__label-arrow:before {content: \"▾\";}#sk-container-id-2 div.sk-estimator input.sk-toggleable__control:checked~label.sk-toggleable__label {background-color: #d4ebff;}#sk-container-id-2 div.sk-label input.sk-toggleable__control:checked~label.sk-toggleable__label {background-color: #d4ebff;}#sk-container-id-2 input.sk-hidden--visually {border: 0;clip: rect(1px 1px 1px 1px);clip: rect(1px, 1px, 1px, 1px);height: 1px;margin: -1px;overflow: hidden;padding: 0;position: absolute;width: 1px;}#sk-container-id-2 div.sk-estimator {font-family: monospace;background-color: #f0f8ff;border: 1px dotted black;border-radius: 0.25em;box-sizing: border-box;margin-bottom: 0.5em;}#sk-container-id-2 div.sk-estimator:hover {background-color: #d4ebff;}#sk-container-id-2 div.sk-parallel-item::after {content: \"\";width: 100%;border-bottom: 1px solid gray;flex-grow: 1;}#sk-container-id-2 div.sk-label:hover label.sk-toggleable__label {background-color: #d4ebff;}#sk-container-id-2 div.sk-serial::before {content: \"\";position: absolute;border-left: 1px solid gray;box-sizing: border-box;top: 0;bottom: 0;left: 50%;z-index: 0;}#sk-container-id-2 div.sk-serial {display: flex;flex-direction: column;align-items: center;background-color: white;padding-right: 0.2em;padding-left: 0.2em;position: relative;}#sk-container-id-2 div.sk-item {position: relative;z-index: 1;}#sk-container-id-2 div.sk-parallel {display: flex;align-items: stretch;justify-content: center;background-color: white;position: relative;}#sk-container-id-2 div.sk-item::before, #sk-container-id-2 div.sk-parallel-item::before {content: \"\";position: absolute;border-left: 1px solid gray;box-sizing: border-box;top: 0;bottom: 0;left: 50%;z-index: -1;}#sk-container-id-2 div.sk-parallel-item {display: flex;flex-direction: column;z-index: 1;position: relative;background-color: white;}#sk-container-id-2 div.sk-parallel-item:first-child::after {align-self: flex-end;width: 50%;}#sk-container-id-2 div.sk-parallel-item:last-child::after {align-self: flex-start;width: 50%;}#sk-container-id-2 div.sk-parallel-item:only-child::after {width: 0;}#sk-container-id-2 div.sk-dashed-wrapped {border: 1px dashed gray;margin: 0 0.4em 0.5em 0.4em;box-sizing: border-box;padding-bottom: 0.4em;background-color: white;}#sk-container-id-2 div.sk-label label {font-family: monospace;font-weight: bold;display: inline-block;line-height: 1.2em;}#sk-container-id-2 div.sk-label-container {text-align: center;}#sk-container-id-2 div.sk-container {/* jupyter's `normalize.less` sets `[hidden] { display: none; }` but bootstrap.min.css set `[hidden] { display: none !important; }` so we also need the `!important` here to be able to override the default hidden behavior on the sphinx rendered scikit-learn.org. See: https://github.com/scikit-learn/scikit-learn/issues/21755 */display: inline-block !important;position: relative;}#sk-container-id-2 div.sk-text-repr-fallback {display: none;}</style><div id=\"sk-container-id-2\" class=\"sk-top-container\"><div class=\"sk-text-repr-fallback\"><pre>LinearRegression()</pre><b>In a Jupyter environment, please rerun this cell to show the HTML representation or trust the notebook. <br />On GitHub, the HTML representation is unable to render, please try loading this page with nbviewer.org.</b></div><div class=\"sk-container\" hidden><div class=\"sk-item\"><div class=\"sk-estimator sk-toggleable\"><input class=\"sk-toggleable__control sk-hidden--visually\" id=\"sk-estimator-id-2\" type=\"checkbox\" checked><label for=\"sk-estimator-id-2\" class=\"sk-toggleable__label sk-toggleable__label-arrow\">LinearRegression</label><div class=\"sk-toggleable__content\"><pre>LinearRegression()</pre></div></div></div></div></div>"
            ]
          },
          "metadata": {},
          "execution_count": 55
        }
      ]
    },
    {
      "cell_type": "code",
      "source": [
        "# Dự đoán kết quả và đánh giá mô hình\n",
        "y_pred = lr.predict(X_test)\n",
        "mse = mean_squared_error(y_test, y_pred)\n",
        "print('MSE:', mse)"
      ],
      "metadata": {
        "colab": {
          "base_uri": "https://localhost:8080/"
        },
        "id": "qsb6_4LKE6s1",
        "outputId": "a31a7574-a0d4-423a-ebab-beea5962e61e"
      },
      "execution_count": 56,
      "outputs": [
        {
          "output_type": "stream",
          "name": "stdout",
          "text": [
            "MSE: 2.4200211769047674e-29\n"
          ]
        }
      ]
    },
    {
      "cell_type": "code",
      "source": [
        "#Dự đoán kỳ 5\n",
        "print(y_pred)"
      ],
      "metadata": {
        "colab": {
          "base_uri": "https://localhost:8080/"
        },
        "id": "t4Nl2GubFCnM",
        "outputId": "0c18b34a-3a1a-483b-bc76-53c741dfde3b"
      },
      "execution_count": 57,
      "outputs": [
        {
          "output_type": "stream",
          "name": "stdout",
          "text": [
            "[ 9.  5.  5.  3.  4.  7. 10.  2.  7.  2.  7.  4.  3.  9.  3.  6.  8. 10.\n",
            "  2. 10. 10.  5.  8.  5. 10.  9.  8.  8.  7.  1.  5.  5.  1.  9.  3.  7.\n",
            "  9.  1.  4.  2.  2.  3.  4.  7. 10.  6.  9.  3.  2.  5. 10.  8.  6.  8.\n",
            "  5.  2.  8.  3.  6.  9.  3.  9.  5.  6.  2.  1.  9.  6.  4.  9.  5.  2.\n",
            "  9.  4.  2. 10.  2.  9.  6.  8.  9.  2.  5.  6.  6.  4.  6.  5.  2.  1.\n",
            "  9.  9.  2.  9.  8.  1. 10. 10. 10.  7.  1.  9.  4. 10.  2.  2.  7.  4.\n",
            "  5.  9.  2.  2.  7.  9.  9.  7.  7.  2.  5.  6.  8.  9.  7.  5.  6.  7.\n",
            "  8.  4.  4.  9.  1.  2. 10.  6.  5.  9.  2.  3.  5. 10. 10.  2.  5.  2.\n",
            "  3.  6.  4.  6.  9.  1.  9.  8.  4.  7.  8.  5.  5.  4.  5.  1.  1.  9.\n",
            "  9.  9.  6. 10.  7.  5.  4.  3.  8.  8.  9.  7.  8.  7.  9.  8.  9.  6.\n",
            " 10.  6.  3.  2.  2.  7.  3.  6.  4.  6.  8.  3.  1.  1.  9.  6.  4.  4.\n",
            "  1.  1.  7.  8.  7.  4.  9.  3.  2.  8.  3. 10.  1.  2.  7.  9.  3.  3.\n",
            "  5.  4.  3.  2.  5.  6. 10.  2. 10.  1.  9.  3.  6. 10.  9.  8.  9.  9.\n",
            "  7.  2.  3.  9.  3.  4.  5.  7.  6.  4.  7.  2.  6.  2.  3.  8. 10.  8.\n",
            "  7.  8.  5.  6.  7.  9.  5.  5.  1.  7.  8.  1. 10.  2.  3.  3.  5.  7.\n",
            "  9.  6.  5.  4.  7.  8.  3.  3.  4.  5.  4.  3.  4.  8.  2.  8.  3.  3.\n",
            "  2.  3.  8.  3.  5.  9.  6.  1.  8.  5.  4.  4.  8.  4.  9.  3.  1.  6.\n",
            "  6.  6.  8.  8.  8.  2.  7.  3.  9.  3.  9.  9.  6.  4.  9.  2.  3.  2.\n",
            "  3.  5.  9.  2.  8.  6.  2.  9.  5.  7.  9.  4.  3.  2.  5.  4.  3.  4.\n",
            "  6.  2.  7.  4.  8.  6.  5.  5. 10.  2.  4.  3.  1.  7.  2. 10.  3. 10.\n",
            " 10.  5.  2.  5.  6.  6.  1.  4.  4.  7.  7.  8.  8.  4.  3.  9.  4.  5.\n",
            "  8. 10.  3.  2.  5.  2.  2.  4.  4.  6.  1.  2.  7.  8.  3.  6.  9.  7.\n",
            "  4.  4.  8.  1.  6.  5.  8. 10.  5.  8.  7.  6.  8.  8.  7.  8.  6.  4.\n",
            "  5.  9.  6.  4.  8.  1.  3.  9.  6.  5.  7.  8.  7.  4.  3.  6. 10.  9.\n",
            "  7.  5.  4. 10.  2.  7.  5.  5.  6.  2.  6.  9.  6.  4.  1.  8.  7.  3.\n",
            "  2.  4.  8.  7.  1.  5.  5. 10.  9.  7.  7. 10.  8.  9.  5.  8.  4.  1.\n",
            "  1.  8.  8.  9.  3.  2.  2.  5.  3.  6.  5.  5.  4.  8.  2.  3.  1.  3.\n",
            "  7.  6. 10.  6.  4.  4.  2.  6.  8.  7.  5.  5.  4.  8.  3.  4.  3.  3.\n",
            "  2.  2.  6.  8.  7.  3.  7.  2. 10.  4.  4.  6. 10.  8.  7.  9.  9.  8.\n",
            "  1.  9.  6.  8.  5.  6.  5.  4.  1.  9.  8.  2.  2. 10.  5.  2.  4.  9.\n",
            " 10.  3.  4.  4.  2. 10.  6.  2.  8.  6.  7.  1.  7.  9.  2.  2.  7.  3.\n",
            "  7.  6.  2.  5.  4.  5.  4.  8.  3.  1.  8.  7.  6.  3.  2.  9.  7.  7.\n",
            "  4.  1.  9.  9.  2.  9.  5.  9.  8.  9.  6.  8. 10.  7.  5.  5. 10.  8.\n",
            "  6.  8.  2.  5.  5.  7.  9. 10.  2.  9.  9.  2.  5.  7.  3.  7.  2.  6.\n",
            "  9.  1.  9.  9.  3.  1.  7.  3.  7.  7.  9.  2.  6.  6. 10.  4.  9.  8.\n",
            "  9.  6.]\n"
          ]
        }
      ]
    }
  ]
}